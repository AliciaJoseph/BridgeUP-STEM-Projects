{
  "nbformat": 4,
  "nbformat_minor": 0,
  "metadata": {
    "kernelspec": {
      "display_name": "Python 3",
      "language": "python",
      "name": "python3"
    },
    "language_info": {
      "codemirror_mode": {
        "name": "ipython",
        "version": 3
      },
      "file_extension": ".py",
      "mimetype": "text/x-python",
      "name": "python",
      "nbconvert_exporter": "python",
      "pygments_lexer": "ipython3",
      "version": "3.8.3"
    },
    "colab": {
      "name": "C14 Unit 4 Molecular Genetics - Activity Notebook.ipynb",
      "provenance": [],
      "collapsed_sections": [
        "gCPhTe2t3zoi",
        "ygQL6saQ3zox",
        "A43PvJnN3zoz",
        "TJDVqi0G3zo1",
        "Eht37wwz3zo2"
      ],
      "include_colab_link": true
    }
  },
  "cells": [
    {
      "cell_type": "markdown",
      "metadata": {
        "id": "view-in-github",
        "colab_type": "text"
      },
      "source": [
        "<a href=\"https://colab.research.google.com/github/AliciaJoseph/BridgeUP-STEM-Projects/blob/main/C14_Unit_4_Molecular_Genetics_Activity_Notebook.ipynb\" target=\"_parent\"><img src=\"https://colab.research.google.com/assets/colab-badge.svg\" alt=\"Open In Colab\"/></a>"
      ]
    },
    {
      "cell_type": "code",
      "metadata": {
        "colab": {
          "base_uri": "https://localhost:8080/"
        },
        "id": "gRWZu_jBGK_F",
        "outputId": "a9d0b96c-d353-42e6-83e0-2cc88f3a1159"
      },
      "source": [
        "from google.colab import drive\n",
        "drive.mount('/content/drive')"
      ],
      "execution_count": null,
      "outputs": [
        {
          "output_type": "stream",
          "text": [
            "Mounted at /content/drive\n"
          ],
          "name": "stdout"
        }
      ]
    },
    {
      "cell_type": "markdown",
      "metadata": {
        "id": "gCPhTe2t3zoi"
      },
      "source": [
        "# 🟢 Module 1: Making a Lab Material Dictionary\n",
        "\n",
        "Dictionaries are a convenient way of storing data in Python.  A dictionary in Python is like a dictionary in the real world.  \n",
        "\n",
        "In the real world, a dictionary consists of **words** and their **definitions**. In Python, a dictionary consists of **keys** and their **values**.\n",
        "\n",
        "In this Jupyter notebook you will use this new data type to organize all the materials from our strawberry DNA extraction lab."
      ]
    },
    {
      "cell_type": "markdown",
      "metadata": {
        "id": "S4t36jLa3zol"
      },
      "source": [
        "### Use this cell for the live code session:"
      ]
    },
    {
      "cell_type": "code",
      "metadata": {
        "colab": {
          "base_uri": "https://localhost:8080/"
        },
        "id": "3NW7O9cV3zom",
        "outputId": "317eaae5-3ec5-4750-cfcf-7b55ebfd76ee"
      },
      "source": [
        "analogyDict = {\"DNA\":\"cookbook\", \"RNA\":\"recipe\", \"protein\":\"food\"}\n",
        "print(analogyDict[\"RNA\"])\n",
        "\n",
        "subunitDict = {\"DNA\":\"nucleotides\", \"RNA\":\"nucleotides\", \"protein\":\"amino acids\"}\n",
        "print(subunitDict[\"DNA\"])\n",
        "print(subunitDict[\"RNA\"])"
      ],
      "execution_count": null,
      "outputs": [
        {
          "output_type": "stream",
          "text": [
            "recipe\n",
            "nucleotides\n",
            "nucleotides\n"
          ],
          "name": "stdout"
        }
      ]
    },
    {
      "cell_type": "markdown",
      "metadata": {
        "id": "wdDdmHXg3zon"
      },
      "source": [
        "### Run the following cells to learn more about dictionaries:"
      ]
    },
    {
      "cell_type": "code",
      "metadata": {
        "id": "igCXAW-d3zoo"
      },
      "source": [
        "# We will create a new dictionary\n",
        "switchDict = {1:\"on\", 0:\"off\"} # Notice that you can use integers as keys and strings as values if you want"
      ],
      "execution_count": null,
      "outputs": []
    },
    {
      "cell_type": "code",
      "metadata": {
        "colab": {
          "base_uri": "https://localhost:8080/"
        },
        "id": "BT0uDhkU3zoo",
        "outputId": "7e44129f-bbee-4556-d21d-a9bae81b346d"
      },
      "source": [
        "# print out the value for the 0 key\n",
        "print(switchDict[0])"
      ],
      "execution_count": null,
      "outputs": [
        {
          "output_type": "stream",
          "text": [
            "off\n"
          ],
          "name": "stdout"
        }
      ]
    },
    {
      "cell_type": "code",
      "metadata": {
        "colab": {
          "base_uri": "https://localhost:8080/"
        },
        "id": "PG0ng2LW3zop",
        "outputId": "fc1c2b63-30bb-4524-c3cf-358d767b214e"
      },
      "source": [
        "# Here's another dictionary\n",
        "countDict = {\"dozen\":12, \"baker's dozen\": 13, \"score\":20, \"one gross\":144}\n",
        "print(countDict)"
      ],
      "execution_count": null,
      "outputs": [
        {
          "output_type": "stream",
          "text": [
            "{'dozen': 12, \"baker's dozen\": 13, 'score': 20, 'one gross': 144}\n"
          ],
          "name": "stdout"
        }
      ]
    },
    {
      "cell_type": "code",
      "metadata": {
        "colab": {
          "base_uri": "https://localhost:8080/"
        },
        "id": "NrsxOg6i3zoq",
        "outputId": "90353c9f-4263-4781-fc40-2c931ca8ce75"
      },
      "source": [
        "# Let's print out the value for the \"Score\" key:\n",
        "print(countDict[\"score\"])"
      ],
      "execution_count": null,
      "outputs": [
        {
          "output_type": "stream",
          "text": [
            "20\n"
          ],
          "name": "stdout"
        }
      ]
    },
    {
      "cell_type": "markdown",
      "metadata": {
        "id": "IsOSy4c53zoq"
      },
      "source": [
        "You can add a new key/value pair to a dictionary:"
      ]
    },
    {
      "cell_type": "code",
      "metadata": {
        "colab": {
          "base_uri": "https://localhost:8080/"
        },
        "id": "OOol8Y673zor",
        "outputId": "37f82857-1605-4347-aac2-c756ba087c0d"
      },
      "source": [
        "countDict[\"half dozen\"] = 6\n",
        "print(countDict)"
      ],
      "execution_count": null,
      "outputs": [
        {
          "output_type": "stream",
          "text": [
            "{'dozen': 12, \"baker's dozen\": 13, 'score': 20, 'one gross': 144, 'half dozen': 6}\n"
          ],
          "name": "stdout"
        }
      ]
    },
    {
      "cell_type": "markdown",
      "metadata": {
        "id": "4JpSpGhS3zot"
      },
      "source": [
        "You can also delete a key/value pair from a dictionary:"
      ]
    },
    {
      "cell_type": "code",
      "metadata": {
        "colab": {
          "base_uri": "https://localhost:8080/"
        },
        "id": "NJvXI_Wa3zot",
        "outputId": "a5ba86f5-87a6-43fc-88b0-7c7e91530ebb"
      },
      "source": [
        "del countDict[\"dozen\"]\n",
        "print(countDict)"
      ],
      "execution_count": null,
      "outputs": [
        {
          "output_type": "stream",
          "text": [
            "{\"baker's dozen\": 13, 'score': 20, 'one gross': 144, 'half dozen': 6}\n"
          ],
          "name": "stdout"
        }
      ]
    },
    {
      "cell_type": "markdown",
      "metadata": {
        "id": "YOhOuQlx3zou"
      },
      "source": [
        "You can use dictionaries with other commands like conditionals:"
      ]
    },
    {
      "cell_type": "code",
      "metadata": {
        "colab": {
          "base_uri": "https://localhost:8080/"
        },
        "id": "TR8Ieyvn3zou",
        "outputId": "f52d3ae1-92b1-4c6b-b26b-47c31d2017c0"
      },
      "source": [
        "if countDict[\"score\"] > 19:\n",
        "    print(\"A score is greater than 19\")"
      ],
      "execution_count": null,
      "outputs": [
        {
          "output_type": "stream",
          "text": [
            "A score is greater than 19\n"
          ],
          "name": "stdout"
        }
      ]
    },
    {
      "cell_type": "markdown",
      "metadata": {
        "id": "VdNaRDMJ3zou"
      },
      "source": [
        "### Making the lab material dictionary\n",
        "Create a dictionary with a key for the first three materials on the list (strawberries - dish soap). The values should be the reason we use that material:\n",
        "\n",
        "**Note: to make it easier to use your dictionary, keep all words lower case**"
      ]
    },
    {
      "cell_type": "code",
      "metadata": {
        "id": "ShRvIwMh3zov"
      },
      "source": [
        "labMaterials = {\"strawberries\":\"source of DNA\", \"water\":\"basis of extraction liquid\", \"dish soap\":\"breaks the cell open\"}"
      ],
      "execution_count": null,
      "outputs": []
    },
    {
      "cell_type": "markdown",
      "metadata": {
        "id": "8wQTG3rD3zov"
      },
      "source": [
        "Print out the use of dish soap using your dictionary:"
      ]
    },
    {
      "cell_type": "code",
      "metadata": {
        "colab": {
          "base_uri": "https://localhost:8080/"
        },
        "id": "OU91raxk3zov",
        "outputId": "9184e619-1594-4994-b6f7-696d1192e9bf"
      },
      "source": [
        "print(labMaterials[\"dish soap\"])"
      ],
      "execution_count": null,
      "outputs": [
        {
          "output_type": "stream",
          "text": [
            "breaks the cell open\n"
          ],
          "name": "stdout"
        }
      ]
    },
    {
      "cell_type": "markdown",
      "metadata": {
        "id": "d-M10dIp3zov"
      },
      "source": [
        "Add the next three lab materials to your dictionary:"
      ]
    },
    {
      "cell_type": "code",
      "metadata": {
        "id": "COutlXuK3zov"
      },
      "source": [
        "labMaterials.update({\"meat tenderizer\": \"enzymes that cut up proteins\"})\n",
        "labMaterials[\"salt\"] = \"separates the DNA\"\n",
        "labMaterials[\"rubbing alcohol\"] = \"removes the DNA\""
      ],
      "execution_count": null,
      "outputs": []
    },
    {
      "cell_type": "markdown",
      "metadata": {
        "id": "THVXzoA23zow"
      },
      "source": [
        "print out your dictionary to check that you've added the new materials correctly:"
      ]
    },
    {
      "cell_type": "code",
      "metadata": {
        "colab": {
          "base_uri": "https://localhost:8080/"
        },
        "id": "rBpOMwP63zow",
        "outputId": "f98a5634-c0b0-4f2f-babc-b44ddeeff547"
      },
      "source": [
        "print(labMaterials)"
      ],
      "execution_count": null,
      "outputs": [
        {
          "output_type": "stream",
          "text": [
            "{'strawberries': 'source of DNA', 'water': 'basis of extraction liquid', 'dish soap': 'breaks the cell open', 'meat tenderizer': 'enzymes that cut up proteins', 'salt': 'separates the DNA', 'rubbing alcohol': 'removes the DNA'}\n"
          ],
          "name": "stdout"
        }
      ]
    },
    {
      "cell_type": "markdown",
      "metadata": {
        "id": "GTanNXGZ3zow"
      },
      "source": [
        "Now write a \"for loop\" that loops through the following list and prints out \"<item> is needed for the experiment\" if that item is in your dictionary and then prints out the use of that item."
      ]
    },
    {
      "cell_type": "code",
      "metadata": {
        "id": "Sm-9qO1A3zow"
      },
      "source": [
        "items = [\"apples\", \"water\", \"lemon juice\", \"vinegar\", \"salt\", \"dish soap\"]"
      ],
      "execution_count": null,
      "outputs": []
    },
    {
      "cell_type": "code",
      "metadata": {
        "colab": {
          "base_uri": "https://localhost:8080/"
        },
        "id": "Jt0zV1_b3zow",
        "outputId": "6f9bb29d-5ea9-41a2-8d28-007f6e313bd7"
      },
      "source": [
        "# Hint: you can use \"if x in my_dictionary\" to check if something is in a dictionary\n",
        "for i in items:\n",
        "  if i in labMaterials:\n",
        "    print(i, \"is needed for the experiment because:\", labMaterials[i])\n"
      ],
      "execution_count": null,
      "outputs": [
        {
          "output_type": "stream",
          "text": [
            "water is needed for the experiment because: basis of extraction liquid\n",
            "salt is needed for the experiment because: separates the DNA\n",
            "dish soap is needed for the experiment because: breaks the cell open\n"
          ],
          "name": "stdout"
        }
      ]
    },
    {
      "cell_type": "markdown",
      "metadata": {
        "id": "ygQL6saQ3zox"
      },
      "source": [
        "# 🟢 Module 2: Transcribe and translate genetic information with Python!\n",
        "\n",
        "In this notebook you will learn how to write code that takes a DNA sequence and outputs the corresponding RNA sequence (transcription) and code that takes an RNA sequence and outputs the corresponding peptide sequence (translation)."
      ]
    },
    {
      "cell_type": "markdown",
      "metadata": {
        "id": "wBVbn0F13zox"
      },
      "source": [
        "In the \"Central Dogma\" game you only transcribed and translated the first 10 codons of each protein. For this coding exercise you will use the entire DNA sequences (400-1,000 base pairs!). \n",
        "<br>\n",
        "<br>\n",
        "The sequences are saved as text files so you will need to create a variable for each gene and use the open() function to assign each sequence to a variable. "
      ]
    },
    {
      "cell_type": "code",
      "metadata": {
        "collapsed": true,
        "id": "jlUQ-4Rh3zox"
      },
      "source": [
        "# Create a variable for each gene and read that file into the variable as a string\n",
        "# You will need the open() function and the .read() method\n",
        "\n",
        "HisDNA = open(\"/content/drive/MyDrive/Colab Notebooks/Histamine_receptor_DNA.txt\").read()\n",
        "\n",
        "# Now open and read the sequence files for keratin and collagen:\n",
        "KerDNA = open(\"/content/drive/MyDrive/Colab Notebooks/Keratin_DNA.txt\").read()\n",
        "ColDNA = open(\"/content/drive/MyDrive/Colab Notebooks/Collagen_DNA.txt\").read()"
      ],
      "execution_count": null,
      "outputs": []
    },
    {
      "cell_type": "markdown",
      "metadata": {
        "id": "o9ZEKLbJ3zox"
      },
      "source": [
        "Print out the data stored in the HisDNA variable:"
      ]
    },
    {
      "cell_type": "code",
      "metadata": {
        "id": "DtERUFB_3zox",
        "colab": {
          "base_uri": "https://localhost:8080/"
        },
        "outputId": "2f19123e-a176-4c49-bc6b-dcef3e6f5977"
      },
      "source": [
        "print(HisDNA)"
      ],
      "execution_count": null,
      "outputs": [
        {
          "output_type": "stream",
          "text": [
            "TACCGTGGGTTACCGTGTCGGAGAAGGAAAACGGACCTGAGATGGCGTACGTTCTAGTGGTAGTGGCACCAGGAACGCCAGGAGTAGGAGTAGTGGCAACGACCGTTACACCAGCAGACAGACCGGCACCCGAACTTGGCGGCCGAGGCGTTGGACTGGTTAACAAAGTAGCACAGGAACCGATAGTGACTGGACGAGGAGCCGGAGGACCACGACGGGAAGAGACGGTAGATGGTCGACAGGACGTTCACCTCGAAACCGTTCCAGAAGACGTTATAGATGTGGTCGGACCTACACTACGAGACGTGTCGGAGGTAAGAATTGGAGAAGTACTAGTCGGAGCTGGCCATGACGCGACAGTACCTGGGTGACGCCATGGGACACGACCAGTGGGGTCAAGCCCAGCGGTAGAGAGACCAGAATTAAACCCAGTAGAGGTAATGGGACAGGAAAGACAGATAGGTGGACCCCACCTTGTCGTCCTTGCTCTGGTCGTTCCCGTTAGTATGGTGGAGATTCACGTTTCAGGTCCAGTTACTTCACATGCCCGACCACCTACCCGACCAGTGGAAGATGGAGGGCGATGACTAGTACACGTAGTGGATGATGGCGTAGAAGTTCCAGCGGGCCCTAGTCCGGTTCTCCTAGTTAGTGTAATCGAGGACCTTCCGTCGGTGGTAGTCCCTCGTGTTTCGGTGTCACTGTGACCGGCGGCAGTACCCCCGGAAGTAGTAGACGACCAAAGGGATGAAGTGGCGCAAACACATGGCACCCGACTCTCCCCTACTACGGTAGTTACTCCACAATCTTCGGTAGCAAGACACCGACCCGATACGGTTGAGTCGGGACTTGGGGTAGGACATACGACGCGACTTGTCTCTGAAGGCGTGGCCCATGGTTGTCGAGAAGACGACGTCCGACCGGTTGGCGTTGAGGGTGTTTTGAAGAGACTCCAGGTTGCGGAGAGTCGACAGGTCCTGGGTTTCGGCTCTTGGGTCCGTTGTCCTTCTCTTTGGGGACTTCGAGGTCCACACCTCACCCTGTCTTCAGTGCCGGGGGGTCCCTCGGTGTCTGTCCATT\n"
          ],
          "name": "stdout"
        }
      ]
    },
    {
      "cell_type": "markdown",
      "metadata": {
        "id": "4CPrloA53zox"
      },
      "source": [
        "Print out the datatype of this variable:"
      ]
    },
    {
      "cell_type": "code",
      "metadata": {
        "id": "UQ_aKFat3zoy",
        "colab": {
          "base_uri": "https://localhost:8080/"
        },
        "outputId": "99de0c62-b2f9-4e21-952b-c6fcf433b922"
      },
      "source": [
        "print(type(HisDNA))"
      ],
      "execution_count": null,
      "outputs": [
        {
          "output_type": "stream",
          "text": [
            "<class 'str'>\n"
          ],
          "name": "stdout"
        }
      ]
    },
    {
      "cell_type": "markdown",
      "metadata": {
        "id": "M1WOm5LJ3zoy"
      },
      "source": [
        "Now that we've assigned our sequences to variables, we can get started on the code to transcribe that DNA sequence into an RNA sequence. \n",
        "\n",
        "**Store the histamine receptor RNA sequence in its own variable and print it out to check your results**\n",
        "\n",
        "Remember, A -> U, T -> A, G -> C, and C -> G"
      ]
    },
    {
      "cell_type": "code",
      "metadata": {
        "id": "adIsqLFs3zoy",
        "colab": {
          "base_uri": "https://localhost:8080/"
        },
        "outputId": "eed79cfb-48a0-42d5-bbd6-009c24d51fab"
      },
      "source": [
        "# Hint: You will need a \"for loop\" and conditionals. \n",
        "# You will also need an empty string\n",
        "\n",
        "#Step 1: Create an empty string to add onto and store the RNA in.\n",
        "HisRNA = \"\"\n",
        "\n",
        "rna_dict = {\"A\":\"U\", \"T\":\"A\", \"G\":\"C\", \"C\":\"G\" } #reference\n",
        "\n",
        "#Step 2: HisDNA is holding the entire sequence that must be transcribed.\n",
        "for i in HisDNA: #For loop helps me iterate through the DNA sequence and gain access to each individual character (a nucleotide)\n",
        "  #Transcribe each character using the dictionary.\n",
        "  # RNA = RNA + rna_dict[i] #Long way\n",
        "  HisRNA += rna_dict[i] #Shortcut\n",
        "  \n",
        "print(HisRNA)\n",
        "\n"
      ],
      "execution_count": null,
      "outputs": [
        {
          "output_type": "stream",
          "text": [
            "AUGGCACCCAAUGGCACAGCCUCUUCCUUUUGCCUGGACUCUACCGCAUGCAAGAUCACCAUCACCGUGGUCCUUGCGGUCCUCAUCCUCAUCACCGUUGCUGGCAAUGUGGUCGUCUGUCUGGCCGUGGGCUUGAACCGCCGGCUCCGCAACCUGACCAAUUGUUUCAUCGUGUCCUUGGCUAUCACUGACCUGCUCCUCGGCCUCCUGGUGCUGCCCUUCUCUGCCAUCUACCAGCUGUCCUGCAAGUGGAGCUUUGGCAAGGUCUUCUGCAAUAUCUACACCAGCCUGGAUGUGAUGCUCUGCACAGCCUCCAUUCUUAACCUCUUCAUGAUCAGCCUCGACCGGUACUGCGCUGUCAUGGACCCACUGCGGUACCCUGUGCUGGUCACCCCAGUUCGGGUCGCCAUCUCUCUGGUCUUAAUUUGGGUCAUCUCCAUUACCCUGUCCUUUCUGUCUAUCCACCUGGGGUGGAACAGCAGGAACGAGACCAGCAAGGGCAAUCAUACCACCUCUAAGUGCAAAGUCCAGGUCAAUGAAGUGUACGGGCUGGUGGAUGGGCUGGUCACCUUCUACCUCCCGCUACUGAUCAUGUGCAUCACCUACUACCGCAUCUUCAAGGUCGCCCGGGAUCAGGCCAAGAGGAUCAAUCACAUUAGCUCCUGGAAGGCAGCCACCAUCAGGGAGCACAAAGCCACAGUGACACUGGCCGCCGUCAUGGGGGCCUUCAUCAUCUGCUGGUUUCCCUACUUCACCGCGUUUGUGUACCGUGGGCUGAGAGGGGAUGAUGCCAUCAAUGAGGUGUUAGAAGCCAUCGUUCUGUGGCUGGGCUAUGCCAACUCAGCCCUGAACCCCAUCCUGUAUGCUGCGCUGAACAGAGACUUCCGCACCGGGUACCAACAGCUCUUCUGCUGCAGGCUGGCCAACCGCAACUCCCACAAAACUUCUCUGAGGUCCAACGCCUCUCAGCUGUCCAGGACCCAAAGCCGAGAACCCAGGCAACAGGAAGAGAAACCCCUGAAGCUCCAGGUGUGGAGUGGGACAGAAGUCACGGCCCCCCAGGGAGCCACAGACAGGUAA\n"
          ],
          "name": "stdout"
        }
      ]
    },
    {
      "cell_type": "code",
      "metadata": {
        "id": "DEpOtvHl3zoy"
      },
      "source": [
        ""
      ],
      "execution_count": null,
      "outputs": []
    },
    {
      "cell_type": "markdown",
      "metadata": {
        "id": "nUuwxLdd3zoy"
      },
      "source": [
        "Congratulations! You've transcribed DNA sequences and created mRNA. Now it's time to translate that message and find the amino acid sequence of the protein.\n",
        "<br>\n",
        "<br>\n",
        "Here's a chart to help you out:"
      ]
    },
    {
      "cell_type": "markdown",
      "metadata": {
        "id": "16dCekXO3zoy"
      },
      "source": [
        "<img src=\"https://archive.manylabs.org/file/lessonMedia/69/geneticCode.png\" width=\"500px\" height=\"500px\" align=\"left\" />"
      ]
    },
    {
      "cell_type": "markdown",
      "metadata": {
        "id": "mRu13EbP3zoz"
      },
      "source": [
        "**Goal:** You need to write code that takes an RNA sequence and returns the correct amino acid sequence. (Use the one letter code for amino acids (ex. L for Leucine). Stop codons can be represented as \"STOP\")\n",
        "\n",
        "**You may find it helpful to write some pseudocode to help you solve this challenge**\n",
        "\n",
        "Here are some hints:\n",
        "- you will need a dictionary, a for loop, and a conditional"
      ]
    },
    {
      "cell_type": "markdown",
      "metadata": {
        "id": "2Dnv9QMR3zoz"
      },
      "source": [
        "Create your dictionary first:"
      ]
    },
    {
      "cell_type": "code",
      "metadata": {
        "id": "AxRAE6q73zoz"
      },
      "source": [
        "codonDict = {\"UUU\":\"F\",\"UUC\":\"F\",\"UUA\":\"L\",\"UUG\":\"L\", \"CUU\":\"L\",\"CUC\":\"L\", \n",
        "             \"CUA\":\"L\",\"CUG\":\"L\",\"AUU\":\"I\",\"AUC\":\"I\",\"AUA\":\"I\",\"AUG\":\"M\",\n",
        "             \"GUU\":\"V\",\"GUC\":\"V\",\"GUA\":\"V\",\"GUG\":\"V\",\"UCU\":\"S\",\"UCC\":\"S\",\n",
        "             \"UCA\":\"S\",\"UCG\":\"S\",\"CCU\":\"P\",\"CCC\":\"P\",\"CCA\":\"P\",\"CCG\":\"P\",\n",
        "             \"ACU\":\"T\",\"ACC\":\"T\",\"ACA\":\"T\",\"ACG\":\"T\",\"GCU\":\"A\",\"GCC\":\"A\",\n",
        "             \"GCA\":\"A\",\"GCG\":\"A\",\"UAU\":\"Y\",\"UAC\":\"Y\",\"UAA\":\"STOP\",\"UAG\":\"STOP\",\n",
        "             \"UGA\":\"STOP\",\"CAU\":\"H\",\"CAC\":\"H\",\"CAA\":\"Q\",\"CAG\":\"Q\",\"AAU\":\"N\",\n",
        "             \"AAC\":\"N\",\"AAA\":\"K\",\"AAG\":\"K\",\"GAU\":\"D\",\"GAC\":\"D\",\"GAA\":\"E\",\n",
        "             \"GAG\":\"E\",\"UGU\":\"C\",\"UGC\":\"C\",\"UGG\":\"W\",\"CGU\":\"R\",\"CGC\":\"R\",\n",
        "             \"CGA\":\"R\",\"CGG\":\"R\",\"AGU\":\"S\",\"AGC\":\"S\",\"AGA\":\"R\",\"AGG\":\"R\",\n",
        "             \"GGU\":\"G\",\"GGC\":\"G\",\"GGA\":\"G\",\"GGG\":\"G\"}"
      ],
      "execution_count": null,
      "outputs": []
    },
    {
      "cell_type": "markdown",
      "metadata": {
        "id": "IkavlB-n3zoz"
      },
      "source": [
        "Now write the rest of your code:"
      ]
    },
    {
      "cell_type": "code",
      "metadata": {
        "id": "U97iYKN53zoz",
        "colab": {
          "base_uri": "https://localhost:8080/"
        },
        "outputId": "7cd3429c-28ab-44fb-971f-805b9e22d569"
      },
      "source": [
        "#Challenge: Keep track of 3 characters at a time. \n",
        "#Solution: Create an empty string to hold protein\n",
        "#Solution: Create another empty string to hold each codon.\n",
        "#Create for-loop with a range and a counter to keep track of every 3 characters.\n",
        "protein = \"\" #endgoal, should store the overall protein containing the amino acids.\n",
        "codon = \"\" #3 characters, temporary place to store codons\n",
        "\n",
        "for i in HisRNA:\n",
        "  if len(codon) == 3:\n",
        "    protein += codonDict[codon]\n",
        "    codon = \"\"\n",
        "    codon += i #Don't forget the current iteration!\n",
        "  else:\n",
        "    codon += i\n",
        "\n",
        "print(protein)"
      ],
      "execution_count": null,
      "outputs": [
        {
          "output_type": "stream",
          "text": [
            "MAPNGTASSFCLDSTACKITITVVLAVLILITVAGNVVVCLAVGLNRRLRNLTNCFIVSLAITDLLLGLLVLPFSAIYQLSCKWSFGKVFCNIYTSLDVMLCTASILNLFMISLDRYCAVMDPLRYPVLVTPVRVAISLVLIWVISITLSFLSIHLGWNSRNETSKGNHTTSKCKVQVNEVYGLVDGLVTFYLPLLIMCITYYRIFKVARDQAKRINHISSWKAATIREHKATVTLAAVMGAFIICWFPYFTAFVYRGLRGDDAINEVLEAIVLWLGYANSALNPILYAALNRDFRTGYQQLFCCRLANRNSHKTSLRSNASQLSRTQSREPRQQEEKPLKLQVWSGTEVTAPQGATDR\n"
          ],
          "name": "stdout"
        }
      ]
    },
    {
      "cell_type": "markdown",
      "metadata": {
        "id": "A43PvJnN3zoz"
      },
      "source": [
        "# 🟢 Module 3: Dictionaries review\n",
        "\n",
        "These exercises will help you review the new data type of dictionaries. Try to complete these on your own first before looking at a cheat sheet."
      ]
    },
    {
      "cell_type": "markdown",
      "metadata": {
        "id": "c81-qEhJ3zo0"
      },
      "source": [
        "### 1. Creating a dictionary\n",
        "\n",
        "Here is a sample sequence of DNA:\n",
        "ACCCTGTAGCAGA\n",
        "\n",
        "Create a dictionary that contains each nucleotide as the key and the number of those nucleotides in the sequence as the value (you can just count by hand):"
      ]
    },
    {
      "cell_type": "code",
      "metadata": {
        "collapsed": true,
        "id": "tlKvJqXp3zo0"
      },
      "source": [
        "nucleotideDict = {\"A\":3, \"C\":4, \"G\":3,\"T\":2}"
      ],
      "execution_count": null,
      "outputs": []
    },
    {
      "cell_type": "markdown",
      "metadata": {
        "id": "77QRJEvA3zo0"
      },
      "source": [
        "Print out the value associated with the key \"G\":"
      ]
    },
    {
      "cell_type": "code",
      "metadata": {
        "collapsed": true,
        "id": "FAX-r8903zo0",
        "colab": {
          "base_uri": "https://localhost:8080/"
        },
        "outputId": "35d105d2-d033-41cf-b794-166f35b2fc58"
      },
      "source": [
        "print(nucleotideDict[\"G\"])"
      ],
      "execution_count": null,
      "outputs": [
        {
          "output_type": "stream",
          "text": [
            "3\n"
          ],
          "name": "stdout"
        }
      ]
    },
    {
      "cell_type": "markdown",
      "metadata": {
        "id": "nJNDC0Yf3zo0"
      },
      "source": [
        "### 2. Adding keys and values\n",
        "\n",
        "Add a key/value pair to your dictionary for the number of \"U\"s in the DNA sequence above:"
      ]
    },
    {
      "cell_type": "code",
      "metadata": {
        "collapsed": true,
        "id": "5uE6gwNV3zo0"
      },
      "source": [
        "nucleotideDict[\"U\"] = 0"
      ],
      "execution_count": null,
      "outputs": []
    },
    {
      "cell_type": "markdown",
      "metadata": {
        "id": "srHDdcZn3zo0"
      },
      "source": [
        "Print out your dictionary:"
      ]
    },
    {
      "cell_type": "code",
      "metadata": {
        "collapsed": true,
        "id": "OImO6yNq3zo0",
        "colab": {
          "base_uri": "https://localhost:8080/"
        },
        "outputId": "5f3d9caf-72b8-49f3-c9a2-c8f0c997cb0d"
      },
      "source": [
        "print(nucleotideDict)"
      ],
      "execution_count": null,
      "outputs": [
        {
          "output_type": "stream",
          "text": [
            "{'A': 3, 'C': 4, 'G': 3, 'T': 2, 'U': 0}\n"
          ],
          "name": "stdout"
        }
      ]
    },
    {
      "cell_type": "markdown",
      "metadata": {
        "id": "zGNXO_nT3zo1"
      },
      "source": [
        "### 3. Conditionals and dictionaries\n",
        "\n",
        "Write a conditional that checks whether there are more \"A\"s or \"T\"s in your sequence and prints out:\n",
        "- \"There are more As\" or \"There are more Ts\"\n",
        "- The difference (ie. how many more As or Ts there are)"
      ]
    },
    {
      "cell_type": "code",
      "metadata": {
        "collapsed": true,
        "id": "iHBn-BeL3zo1",
        "colab": {
          "base_uri": "https://localhost:8080/"
        },
        "outputId": "42b188e4-a0c2-463b-f4f5-47fc5b1fee3f"
      },
      "source": [
        "if nucleotideDict[\"A\"] > nucleotideDict[\"T\"]:\n",
        "  print(\"There's\", nucleotideDict[\"A\"] - nucleotideDict[\"T\"] ,\"more As\")\n",
        "elif nucleotideDict[\"T\"] > nucleotideDict[\"A\"]:\n",
        "  print(\"There's\", nucleotideDict[\"T\"] - nucleotideDict[\"A\"] ,\"more Ts\")\n",
        "else: \n",
        "  print(\"There is the same amount of As and Ts in this sequence.\")"
      ],
      "execution_count": null,
      "outputs": [
        {
          "output_type": "stream",
          "text": [
            "There's 1 more As\n"
          ],
          "name": "stdout"
        }
      ]
    },
    {
      "cell_type": "markdown",
      "metadata": {
        "id": "ib2yX6O03zo1"
      },
      "source": [
        "### 3. Loops and dictionaries\n",
        "\n",
        "Loop through all the keys in your dictionary and print out its value:"
      ]
    },
    {
      "cell_type": "code",
      "metadata": {
        "collapsed": true,
        "id": "OfGtA4cs3zo1",
        "colab": {
          "base_uri": "https://localhost:8080/"
        },
        "outputId": "8c134abd-f4cf-44d0-8644-52e9589e518d"
      },
      "source": [
        "for i in nucleotideDict:\n",
        "  print(nucleotideDict[i])"
      ],
      "execution_count": null,
      "outputs": [
        {
          "output_type": "stream",
          "text": [
            "3\n",
            "4\n",
            "3\n",
            "2\n",
            "0\n"
          ],
          "name": "stdout"
        }
      ]
    },
    {
      "cell_type": "markdown",
      "metadata": {
        "id": "b9vq8urU3zo1"
      },
      "source": [
        "Now write a loop that only prints out the value if there are more than 0 nucleotides of that type in your sequence:"
      ]
    },
    {
      "cell_type": "code",
      "metadata": {
        "collapsed": true,
        "id": "j8xBv-YR3zo1",
        "colab": {
          "base_uri": "https://localhost:8080/"
        },
        "outputId": "db65723c-ebf5-4d9f-edc8-f20a8968dd68"
      },
      "source": [
        "for i in nucleotideDict:\n",
        "  if nucleotideDict[i] > 0:\n",
        "    print(nucleotideDict[i])"
      ],
      "execution_count": null,
      "outputs": [
        {
          "output_type": "stream",
          "text": [
            "3\n",
            "4\n",
            "3\n",
            "2\n"
          ],
          "name": "stdout"
        }
      ]
    },
    {
      "cell_type": "markdown",
      "metadata": {
        "id": "TJDVqi0G3zo1"
      },
      "source": [
        "# 🟢 Module 4: Exploring the hominid timeline\n",
        "\n",
        "In this notebook you'll get to practice creating and using dictionaries while discovering which hominin species lived at the same time."
      ]
    },
    {
      "cell_type": "markdown",
      "metadata": {
        "id": "kkgSiwgS3zo1"
      },
      "source": [
        "Here is a list of hominid species and the time range when they are beleived to have lived (in millions of years ago):\n",
        "- A. anamensis (4.2 to 3.9 mya)\n",
        "- A. afarensis (3.6 to 2.9 mya)\n",
        "- K. platyops (3.5 to 3.3 mya)\n",
        "- A. africanus (3 to 2 mya)\n",
        "- A. aethiopicus (2.7 to 2.3 mya)\n",
        "- A. boisei (2.3 to 1.4 mya)\n",
        "- H. habilis (2.3 to 1.6 mya)\n",
        "- H. erectus (1.8 to 0.3 mya)\n",
        "- A. robustus (1.8 to 1.5 mya)\n",
        "- H. heidelbergensis (0.6 to 0.1 mya)\n",
        "- H. neanderthalensis (0.25 to 0.03 mya)\n",
        "- H. sapiens (0.1 to 0 mya)\n",
        "\n",
        "Create a dictionary with species as keys and lists containing the beginning and end of the range as the values:\n",
        "\n",
        "*Note: If your dictionary gets too long to fit on one line, you can hit the \"return\" key after a comma to make a new line*"
      ]
    },
    {
      "cell_type": "code",
      "metadata": {
        "id": "VVxF4kq83zo1"
      },
      "source": [
        "hominidDict = {\"A. anamensis\":[4.2, 3.9], \"A. afarensis\":[3.6, 2.9], \"K. platyops\":[3.5, 3.3],\n",
        "              \"A. africanus\":[3, 2], \"A. aethiopicus\":[2.7, 2.3], \"A. boisei\":[2.3, 1.4],\n",
        "              \"H. habilis\":[2.3, 1.6], \"H. erectus\":[1.8, 0.3], \"A. robustus\":[1.8, 1.5],\n",
        "              \"H. heidelbergensis\":[0.6, 0.1], \"H. neanderthalensis\":[0.25, 0.03], \"H. sapiens\":[0.1, 0]}"
      ],
      "execution_count": null,
      "outputs": []
    },
    {
      "cell_type": "markdown",
      "metadata": {
        "id": "qmKKV-Qb3zo2"
      },
      "source": [
        "Test out your dictionary by printing out the time range when A. boisei lived:"
      ]
    },
    {
      "cell_type": "code",
      "metadata": {
        "id": "kfdttBj63zo2",
        "colab": {
          "base_uri": "https://localhost:8080/"
        },
        "outputId": "d47af77d-f06b-4631-864b-4742d9b6b66d"
      },
      "source": [
        "print(hominidDict[\"A. boisei\"])"
      ],
      "execution_count": null,
      "outputs": [
        {
          "output_type": "stream",
          "text": [
            "[2.3, 1.4]\n"
          ],
          "name": "stdout"
        }
      ]
    },
    {
      "cell_type": "markdown",
      "metadata": {
        "id": "rND1Cd0G3zo2"
      },
      "source": [
        "Now write code that sets a variable equal to a certain number of millions of years ago and prints out a **list** of all the hominid species that lived at that time:\n",
        "\n",
        "Hints: \n",
        "- You will need to create a new list\n",
        "- You will need to use a list index after a dictionary index\n",
        "- Remember that the time ranges go from more mya to fewer mya"
      ]
    },
    {
      "cell_type": "code",
      "metadata": {
        "id": "M6UX4jam3zo2",
        "colab": {
          "base_uri": "https://localhost:8080/"
        },
        "outputId": "62e7b0f4-8cdf-44de-e7d8-769fbf2496be"
      },
      "source": [
        "mya = 0.1 #What species lived during this time?\n",
        "livingList = [] #Store the hominid species that existed during the time^ above\n",
        "\n",
        "#Create a for-loop to test the mya to see what species were living during that time.\n",
        "for i in hominidDict:\n",
        "  # yearList = hominidDict[i] #This line allows us to access the values (lists of timeranges in million years ago)\n",
        "  # print(yearList)\n",
        "  if hominidDict[i][0] >= mya >= hominidDict[i][1]:\n",
        "    livingList.append(i) #Adds the species that exists during that time to the empty list\n",
        "\n",
        "print(livingList)"
      ],
      "execution_count": null,
      "outputs": [
        {
          "output_type": "stream",
          "text": [
            "['H. heidelbergensis', 'H. neanderthalensis', 'H. sapiens']\n"
          ],
          "name": "stdout"
        }
      ]
    },
    {
      "cell_type": "markdown",
      "metadata": {
        "id": "ezMXfXdi3zo2"
      },
      "source": [
        "Try re-running your code for the following numbers of millions of years:\n",
        "- 3 mya\n",
        "- 1.5 mya\n",
        "- 0.1 mya (100 years ago)"
      ]
    },
    {
      "cell_type": "markdown",
      "metadata": {
        "id": "Eht37wwz3zo2"
      },
      "source": [
        "# 🟢 Module 5: Identifying Butterfly Species\n",
        "\n",
        "In this notebook you will get to use your transcription and translation code to analyze the optix gene from four butterflies and find out which pairs are the same species!"
      ]
    },
    {
      "cell_type": "code",
      "metadata": {
        "colab": {
          "base_uri": "https://localhost:8080/"
        },
        "id": "H3ykbrkZpsCa",
        "outputId": "47cd4eb0-3d25-43e0-c4a3-c530836cbd2a"
      },
      "source": [
        "#Live code \n",
        "\n",
        "#Goal of enumerate is to repeat actions using a for-loop ONLY NOW we'll be keeping track of two different variables. \n",
        "\n",
        "#regular for-loop\n",
        "# for i in aList:\n",
        "#   print(i)\n",
        "\n",
        "\n",
        "#Two lists examples\n",
        "\n",
        "students = [\"Claire\", \"Bre\", \"Astrid\", \"Dalia\", \"Rashini\", \"Alicia\", \"Olivia\", \"Grace\"]\n",
        "students_grades = [9, 10, 10, 10, 10, 11, 11, 11]\n",
        "\n",
        "#for-loop that uses enumerate\n",
        "for c, i in enumerate(students):\n",
        "  print(i + \" is in \" + str(students_grades[c]) + \"th grade.\")"
      ],
      "execution_count": null,
      "outputs": [
        {
          "output_type": "stream",
          "text": [
            "Claire is in 9th grade.\n",
            "Bre is in 10th grade.\n",
            "Astrid is in 10th grade.\n",
            "Dalia is in 10th grade.\n",
            "Rashini is in 10th grade.\n",
            "Alicia is in 11th grade.\n",
            "Olivia is in 11th grade.\n",
            "Grace is in 11th grade.\n"
          ],
          "name": "stdout"
        }
      ]
    },
    {
      "cell_type": "markdown",
      "metadata": {
        "id": "xgLaYQNz3zo2"
      },
      "source": [
        "### Step 1\n",
        "Open the DNA sequence files for the two butterflies that you picked. Read them in as strings, and assign them to variables:"
      ]
    },
    {
      "cell_type": "code",
      "metadata": {
        "id": "xiNsdCHn3zo2"
      },
      "source": [
        "# You will need the open() function and the .read() method\n",
        "DNAseqA = open(\"/content/drive/MyDrive/Colab Notebooks/Butterfly_A_DNA.txt\").read()\n",
        "DNAseqB = open(\"/content/drive/MyDrive/Colab Notebooks/Butterfly_B_DNA.txt\").read()"
      ],
      "execution_count": null,
      "outputs": []
    },
    {
      "cell_type": "markdown",
      "metadata": {
        "id": "HgES5OdJ3zo2"
      },
      "source": [
        "Next, transcribe these sequences into RNA and assign each RNA sequence to a variable."
      ]
    },
    {
      "cell_type": "code",
      "metadata": {
        "id": "vd0g7EMr3zo3",
        "colab": {
          "base_uri": "https://localhost:8080/"
        },
        "outputId": "6479ce09-ec88-4ba3-b116-32f1411fe2ec"
      },
      "source": [
        "# Hint: You can copy and paste your transcription code\n",
        "\n",
        "#We transcribed DNA into RNA using for-loops and dictionaries holding the base pairs\n",
        "\n",
        "#Step 1: Create an empty string to add onto and store the RNA in.\n",
        "RNAseqA = \"\"\n",
        "RNAseqB = \"\"\n",
        "\n",
        "rna_dict = {\"A\":\"U\", \"T\":\"A\", \"G\":\"C\", \"C\":\"G\"} #reference\n",
        "\n",
        "#Step 2: The DNAseq variables is holding the entire sequence that must be transcribed.\n",
        "for i in DNAseqA: #For loop helps me iterate through the DNA sequence and gain access to each individual character (a nucleotide)\n",
        "  #Transcribe each character using the dictionary.\n",
        "  # RNA = RNA + rna_dict[i] #Long way\n",
        "  RNAseqA += rna_dict[i] #Shortcut\n",
        "\n",
        "for i in DNAseqB:\n",
        "  RNAseqB += rna_dict[i]\n",
        "  \n",
        "print(RNAseqA)\n",
        "\n",
        "print(RNAseqB)"
      ],
      "execution_count": null,
      "outputs": [
        {
          "output_type": "stream",
          "text": [
            "CGGUUCCAGAGGUCCAGUCAUGCGAAACUACAAGCUUUAUGGCUGGAGGCGCACUAUCAGGAGGCCGAGCGCCUCCGCGGCCGCCCUCUCGGUCCGGUCGACAAAUAUCGUGUGCGGAAGAAGUUCCCCCUGCCGCGAACAAUCUGGGACGGCGAGCAAAAGACACACUGUUUCAAAGAGAGGACGAGGUCGCUCCUGAGGGAAUGGUACCUGCAAGAUCCUUACCCGAACCCGACGAAGAAGCGGGAAUUGGCCGCGGCGACGGGUUUGACGCCUACGCAGGUCGGCAAUUGGUUCAAGAACCGGCGGCAGCGUGACAGAGCAGCCGCCGCCAAGAACCGCUCCGCCGUGCUCGGCCGAGGGUUCGCCUCCUCCUCCACCUACGACGAGGACUCCGCCGACUCGGAGAUCAACGUGGACGAGGAG\n",
            "CGGUUCCAGAGGUCCAGUCAUGCGAAACUACAAGCCUUGUGGCUGGAGGCGCACUAUCAGGAGGCCGAGCGCCUCCGCGGCCGCCCUCUCGGUCCGGUCGACAAAUAUCGUGUGCGGAAGAAGUUUCCCCUGCCGCGAACAAUCUGGGACGGCGAACAAAAGACACACUGUUUCAAGGAGAGGACGAGGUCGCUCCUGAGGGAAUGGUACCUACAAGACCCUUACCCGAACCCGACGAAGAAGCGGGAAUUGGCCGCGGCGACGGGUCUGACGCCGACGCAGGUCGGCAACUGGUUCAAAAACCGGCGGCAGCGGGACAGAGCAGCCGCCGCUAAGAACCGCUCCGCCGUGCUCGGCCGAGGGUUCGCCUCCUCCUCCACCUAUGACGAGGACUCCGCCGACUCAGAGAUCAACGUGGACGAGGAG\n"
          ],
          "name": "stdout"
        }
      ]
    },
    {
      "cell_type": "markdown",
      "metadata": {
        "id": "cVKvcOCd3zo3"
      },
      "source": [
        "Now find the amino acid sequence for each butterfly and store it in a variable:"
      ]
    },
    {
      "cell_type": "code",
      "metadata": {
        "id": "H5yXu9fC3zo5"
      },
      "source": [
        "# Hint: You will need to use your translation code\n",
        "codonDict = {\"UUU\":\"F\",\"UUC\":\"F\",\"UUA\":\"L\",\"UUG\":\"L\", \"CUU\":\"L\",\"CUC\":\"L\", \n",
        "             \"CUA\":\"L\",\"CUG\":\"L\",\"AUU\":\"I\",\"AUC\":\"I\",\"AUA\":\"I\",\"AUG\":\"M\",\n",
        "             \"GUU\":\"V\",\"GUC\":\"V\",\"GUA\":\"V\",\"GUG\":\"V\",\"UCU\":\"S\",\"UCC\":\"S\",\n",
        "             \"UCA\":\"S\",\"UCG\":\"S\",\"CCU\":\"P\",\"CCC\":\"P\",\"CCA\":\"P\",\"CCG\":\"P\",\n",
        "             \"ACU\":\"T\",\"ACC\":\"T\",\"ACA\":\"T\",\"ACG\":\"T\",\"GCU\":\"A\",\"GCC\":\"A\",\n",
        "             \"GCA\":\"A\",\"GCG\":\"A\",\"UAU\":\"Y\",\"UAC\":\"Y\",\"UAA\":\"STOP\",\"UAG\":\"STOP\",\n",
        "             \"UGA\":\"STOP\",\"CAU\":\"H\",\"CAC\":\"H\",\"CAA\":\"Q\",\"CAG\":\"Q\",\"AAU\":\"N\",\n",
        "             \"AAC\":\"N\",\"AAA\":\"K\",\"AAG\":\"K\",\"GAU\":\"D\",\"GAC\":\"D\",\"GAA\":\"E\",\n",
        "             \"GAG\":\"E\",\"UGU\":\"C\",\"UGC\":\"C\",\"UGG\":\"W\",\"CGU\":\"R\",\"CGC\":\"R\",\n",
        "             \"CGA\":\"R\",\"CGG\":\"R\",\"AGU\":\"S\",\"AGC\":\"S\",\"AGA\":\"R\",\"AGG\":\"R\",\n",
        "             \"GGU\":\"G\",\"GGC\":\"G\",\"GGA\":\"G\",\"GGG\":\"G\"}"
      ],
      "execution_count": null,
      "outputs": []
    },
    {
      "cell_type": "code",
      "metadata": {
        "id": "MjvFXVu73zo5"
      },
      "source": [
        "proteinA = \"\" #endgoal, should store the overall protein containing the amino acids.\n",
        "codon = \"\" #3 characters, temporary place to store codons\n",
        "\n",
        "for i in RNAseqA:\n",
        "  if len(codon) == 3:\n",
        "    proteinA += codonDict[codon]\n",
        "    codon = \"\"\n",
        "    codon += i #Don't forget the current iteration!\n",
        "  else:\n",
        "    codon += i\n",
        "\n"
      ],
      "execution_count": null,
      "outputs": []
    },
    {
      "cell_type": "code",
      "metadata": {
        "id": "TqIUjspo3zo5"
      },
      "source": [
        "proteinB = \"\" #endgoal, should store the overall protein containing the amino acids.\n",
        "codon = \"\" #3 characters, temporary place to store codons\n",
        "\n",
        "for i in RNAseqB:\n",
        "  if len(codon) == 3:\n",
        "    proteinB += codonDict[codon]\n",
        "    codon = \"\"\n",
        "    codon += i #Don't forget the current iteration!\n",
        "  else:\n",
        "    codon += i\n",
        "\n"
      ],
      "execution_count": null,
      "outputs": []
    },
    {
      "cell_type": "markdown",
      "metadata": {
        "id": "_mW7ZG7w3zo5"
      },
      "source": [
        "Print out your protein sequences to make sure your code worked:"
      ]
    },
    {
      "cell_type": "code",
      "metadata": {
        "id": "WmSeRzdL3zo5",
        "colab": {
          "base_uri": "https://localhost:8080/"
        },
        "outputId": "79ceebe9-308b-4310-a195-a6aca07ace76"
      },
      "source": [
        "print(proteinA)\n",
        "\n",
        "print(proteinB)"
      ],
      "execution_count": null,
      "outputs": [
        {
          "output_type": "stream",
          "text": [
            "RFQRSSHAKLQALWLEAHYQEAERLRGRPLGPVDKYRVRKKFPLPRTIWDGEQKTHCFKERTRSLLREWYLQDPYPNPTKKRELAAATGLTPTQVGNWFKNRRQRDRAAAAKNRSAVLGRGFASSSTYDEDSADSEINVDE\n",
            "RFQRSSHAKLQALWLEAHYQEAERLRGRPLGPVDKYRVRKKFPLPRTIWDGEQKTHCFKERTRSLLREWYLQDPYPNPTKKRELAAATGLTPTQVGNWFKNRRQRDRAAAAKNRSAVLGRGFASSSTYDEDSADSEINVDE\n"
          ],
          "name": "stdout"
        }
      ]
    },
    {
      "cell_type": "markdown",
      "metadata": {
        "id": "q9CLvjMs3zo5"
      },
      "source": [
        "### Step 2\n",
        "How can we find out how many differences there are between each pair of protein sequences? \n",
        "Write code that compares your two sequences and prints out the number of differences:"
      ]
    },
    {
      "cell_type": "code",
      "metadata": {
        "id": "qBR9rCFY3zo5"
      },
      "source": [
        "# Hint, you will need the enumerate() function. You can use this in \"for loops\" that loop through strings or lists.\n",
        "# Remember, you must specify two variables in your \"for loop\": one for the index counter and one for the character.\n",
        "\n",
        "#Keep track of the number of differences between each protein sequence.\n",
        "numDifferences = 0\n",
        "\n",
        "#For loop to iterate through BOTH lists\n",
        "for c, i in enumerate(proteinA):\n",
        "  #Compare each sequence using an if statement\n",
        "  if proteinB[c] != i: #we found a difference!\n",
        "    numDifferences += 1"
      ],
      "execution_count": null,
      "outputs": []
    },
    {
      "cell_type": "code",
      "metadata": {
        "colab": {
          "base_uri": "https://localhost:8080/"
        },
        "id": "UgzC0B4unVeW",
        "outputId": "34ee0bd7-f529-4320-9abf-b7749c4a00c8"
      },
      "source": [
        "print(numDifferences)"
      ],
      "execution_count": null,
      "outputs": [
        {
          "output_type": "stream",
          "text": [
            "0\n"
          ],
          "name": "stdout"
        }
      ]
    },
    {
      "cell_type": "markdown",
      "metadata": {
        "id": "YaZ-zF1Z3zo5"
      },
      "source": [
        "If you got 0 differences, that's correct! But don't be too hasty in assuming that these butterflies are from the same species. Let's check the DNA sequences to be sure.\n",
        "\n",
        "### Step 3\n",
        "\n",
        "Try reusing your code to compare the DNA sequences instead of the protein sequences:"
      ]
    },
    {
      "cell_type": "code",
      "metadata": {
        "id": "ISdqPie_3zo6",
        "colab": {
          "base_uri": "https://localhost:8080/"
        },
        "outputId": "c26818a7-27e0-4161-d2ee-b4563d1bc10d"
      },
      "source": [
        "# You can copy and paste code from above and then modify it.\n",
        "\n",
        "#Keep track of the number of differences between each protein sequence.\n",
        "numDifferences = 0\n",
        "\n",
        "#For loop to iterate through BOTH lists\n",
        "for c, i in enumerate(DNAseqA):\n",
        "  #Compare each sequence using an if statement\n",
        "  if DNAseqB[c] != i: #we found a difference!\n",
        "    numDifferences += 1\n",
        "\n",
        "print(numDifferences)"
      ],
      "execution_count": null,
      "outputs": [
        {
          "output_type": "stream",
          "text": [
            "15\n"
          ],
          "name": "stdout"
        }
      ]
    },
    {
      "cell_type": "markdown",
      "metadata": {
        "id": "5cwD56vX3zo6"
      },
      "source": [
        "Compare with other teams to see which two butterflies are from the same species."
      ]
    },
    {
      "cell_type": "markdown",
      "metadata": {
        "id": "nsTja6lV3zo6"
      },
      "source": [
        "## Exploring SNPs\n",
        "### Step 4\n",
        "These DNA differences are actually known variations between species. Called \"single nucleotide polymorphisms\" or SNPs, they can be used to identify a particular species. \n",
        "\n",
        "Using the two dictionaries below, write code that looks at position 213 to find out whether the butterflies you're looking at are melpomene or erato:\n",
        "\n",
        "Hint: DNA basepairs count from 1 and python counts from 0"
      ]
    },
    {
      "cell_type": "code",
      "metadata": {
        "id": "pQEvlOaE3zo6",
        "colab": {
          "base_uri": "https://localhost:8080/"
        },
        "outputId": "adc839fb-2779-41da-8179-bec518b69bda"
      },
      "source": [
        "# melpomene and erato are two Heliconius butterfly species\n",
        "# These dictionaries have the DNA basepair # as the key and the chemical base as the value\n",
        "\n",
        "melpomene = {36:\"A\", 156:\"C\", 177:\"T\", 213:\"C\", 276:\"A\", 291:\"A\", 315:\"A\", 333:\"G\", 405:\"C\"}\n",
        "erato = {36:\"G\", 156:\"T\", 177:\"C\", 213:\"T\", 276:\"C\", 291:\"G\", 315:\"C\", 333:\"A\", 405:\"T\"}\n",
        "\n",
        "if DNAseqA[212] == melpomene[213]:\n",
        "    print(\"butterfly A is melpomene\")\n",
        "elif DNAseqA[212] == erato[213]:\n",
        "    print(\"butterfly A is erato\")\n",
        "else:\n",
        "    print(\"butterfly A is unknown\")\n"
      ],
      "execution_count": null,
      "outputs": [
        {
          "output_type": "stream",
          "text": [
            "butterfly A is melpomene\n"
          ],
          "name": "stdout"
        }
      ]
    },
    {
      "cell_type": "code",
      "metadata": {
        "id": "wmCz8lH63zo6"
      },
      "source": [
        ""
      ],
      "execution_count": null,
      "outputs": []
    },
    {
      "cell_type": "markdown",
      "metadata": {
        "id": "2DDkRUzo3zo6"
      },
      "source": [
        "Try changing the code to look at a different basepair position:"
      ]
    },
    {
      "cell_type": "code",
      "metadata": {
        "id": "1oIyXYM53zo6",
        "colab": {
          "base_uri": "https://localhost:8080/"
        },
        "outputId": "eb7e8336-ec8f-4ad5-90d3-dcee88ec8010"
      },
      "source": [
        "if DNAseqA[176] == melpomene[177]:\n",
        "    print(\"butterfly A is melpomene\")\n",
        "elif DNAseqA[176] == erato[177]:\n",
        "    print(\"butterfly A is erato\")\n",
        "else:\n",
        "    print(\"butterfly A is unknown\")"
      ],
      "execution_count": null,
      "outputs": [
        {
          "output_type": "stream",
          "text": [
            "butterfly A is melpomene\n"
          ],
          "name": "stdout"
        }
      ]
    },
    {
      "cell_type": "markdown",
      "metadata": {
        "id": "P_ok4RFs3zo7"
      },
      "source": [
        "# 🟢 Module 6: The Cultural-Societal Impact Researching Sickle Cell Anemia \n",
        "\n",
        "Use your transcription and translation code to find the amino acid sequence for hemoglobin samples 1-4 (each person in the group should look at a different sequence). Compare your results to determine which sequence has the mutation. "
      ]
    },
    {
      "cell_type": "code",
      "metadata": {
        "id": "Gho2JxfC3zo7"
      },
      "source": [
        "hem1 = open(\"hem_1.txt\").read()\n",
        "hem2 = open(\"hem_2.txt\").read()\n",
        "hem3 = open(\"hem_3.txt\").read()\n",
        "hem4 = open(\"hem_4.txt\").read()"
      ],
      "execution_count": null,
      "outputs": []
    },
    {
      "cell_type": "code",
      "metadata": {
        "id": "v41IT-dY3zo7"
      },
      "source": [
        "#Transcription\n",
        "trDict = {\"A\":\"U\", \"T\":\"A\", \"G\":\"C\", \"C\":\"G\"}\n",
        "RNA = \"\"\n",
        "\n",
        "for i in hem2:\n",
        "  if i != \"\\n\":\n",
        "    RNA += trDict[i]\n",
        "  else:\n",
        "    pass\n",
        "\n",
        "print(RNA)"
      ],
      "execution_count": null,
      "outputs": []
    },
    {
      "cell_type": "code",
      "metadata": {
        "id": "aqOdbqUH3zo7"
      },
      "source": [
        "#Translation\n",
        "codonDict = {\"UUU\":\"F\",\"UUC\":\"F\",\"UUA\":\"L\",\"UUG\":\"L\", \"CUU\":\"L\",\"CUC\":\"L\", \n",
        "             \"CUA\":\"L\",\"CUG\":\"L\",\"AUU\":\"I\",\"AUC\":\"I\",\"AUA\":\"I\",\"AUG\":\"M\",\n",
        "             \"GUU\":\"V\",\"GUC\":\"V\",\"GUA\":\"V\",\"GUG\":\"V\",\"UCU\":\"S\",\"UCC\":\"S\",\n",
        "             \"UCA\":\"S\",\"UCG\":\"S\",\"CCU\":\"P\",\"CCC\":\"P\",\"CCA\":\"P\",\"CCG\":\"P\",\n",
        "             \"ACU\":\"T\",\"ACC\":\"T\",\"ACA\":\"T\",\"ACG\":\"T\",\"GCU\":\"A\",\"GCC\":\"A\",\n",
        "             \"GCA\":\"A\",\"GCG\":\"A\",\"UAU\":\"Y\",\"UAC\":\"Y\",\"UAA\":\"STOP\",\"UAG\":\"STOP\",\n",
        "             \"UGA\":\"STOP\",\"CAU\":\"H\",\"CAC\":\"H\",\"CAA\":\"Q\",\"CAG\":\"Q\",\"AAU\":\"N\",\n",
        "             \"AAC\":\"N\",\"AAA\":\"K\",\"AAG\":\"K\",\"GAU\":\"D\",\"GAC\":\"D\",\"GAA\":\"E\",\n",
        "             \"GAG\":\"E\",\"UGU\":\"C\",\"UGC\":\"C\",\"UGG\":\"W\",\"CGU\":\"R\",\"CGC\":\"R\",\n",
        "             \"CGA\":\"R\",\"CGG\":\"R\",\"AGU\":\"S\",\"AGC\":\"S\",\"AGA\":\"R\",\"AGG\":\"R\",\n",
        "             \"GGU\":\"G\",\"GGC\":\"G\",\"GGA\":\"G\",\"GGG\":\"G\"}\n",
        "\n",
        "protein = \"\"\n",
        "codon = \"\"\n",
        "\n",
        "for i in RNA:\n",
        "    if len(codon) == 3:\n",
        "        protein += codonDict[codon]\n",
        "        codon = \"\"\n",
        "        codon += i\n",
        "    else:\n",
        "        codon += i\n",
        "\n",
        "print(protein) #If the character in index 6 is V, it is DNA containing the sequence for Sickle-Cell Anemia."
      ],
      "execution_count": null,
      "outputs": []
    },
    {
      "cell_type": "code",
      "metadata": {
        "id": "OdHEpEmv3zo7"
      },
      "source": [
        ""
      ],
      "execution_count": null,
      "outputs": []
    },
    {
      "cell_type": "markdown",
      "metadata": {
        "id": "EgmTfR0W3zo7"
      },
      "source": [
        "Once a person decides to proceed with genetic testing, a medical geneticist, primary\n",
        "caredoctor, specialist, or nurse practitioner can order the test. Genetic testing is often\n",
        "done as part of a genetic consultation.\n",
        "\n",
        "Genetic tests are performed on a sample of blood, hair, skin, amniotic fluid (the fluid that\n",
        "surrounds a fetus during pregnancy), or other tissue. For example, a procedure called a\n",
        "buccal smear uses a small brush or cotton swab to collect a sample of cells from the\n",
        "inside surface of the cheek. The sample is sent to a laboratory where technicians look\n",
        "for specific changes in chromosomes, DNA, or proteins, depending on the suspected\n",
        "disorder. The laboratory reports the test results in writing to a person's doctor or genetic\n",
        "counselor, or directly to the patient if requested.\n",
        "\n",
        "Newborn screening tests are done on a small blood sample, which is taken by pricking\n",
        "the baby's heel. Unlike other types of genetic testing, a parent will usually only receive\n",
        "the result if it is positive. If the test result is positive, additional testing is needed to\n",
        "determine whether the baby has a genetic disorder.\n",
        "Before a person has a genetic test, it is important that he or she understands the testing\n",
        "procedure, the benefits and limitations of the test, and the possible consequences of the\n",
        "test results. The process of educating a person about the test and obtaining permission\n",
        "is called **informed consent**.\n",
        "\n",
        "Edit this text cell to answer the following questions:\n",
        "\n",
        "1. What were the research practices done to collect information about sickle cell anemia in Africa?\n",
        "\n",
        "2. Were these research practices ethical?\n",
        "\n",
        "3. What can we do with computer science to ensure that individuals' rights are protected?\n"
      ]
    },
    {
      "cell_type": "code",
      "metadata": {
        "id": "GWsbXaew3zo7"
      },
      "source": [
        ""
      ],
      "execution_count": null,
      "outputs": []
    }
  ]
}