{
  "nbformat": 4,
  "nbformat_minor": 0,
  "metadata": {
    "kernelspec": {
      "display_name": "Python 3",
      "language": "python",
      "name": "python3"
    },
    "language_info": {
      "codemirror_mode": {
        "name": "ipython",
        "version": 3
      },
      "file_extension": ".py",
      "mimetype": "text/x-python",
      "name": "python",
      "nbconvert_exporter": "python",
      "pygments_lexer": "ipython3",
      "version": "3.8.3"
    },
    "colab": {
      "name": "C14 Unit 3 Astrophysics - Activity Notebook.ipynb",
      "provenance": [],
      "collapsed_sections": [
        "WY69O0jGHoXq",
        "U0DcZpd4HoX-",
        "dSu-E-AAHoYB",
        "OgZdGv0IHoYG",
        "DSWHOvRsHoYH",
        "qvI8-OM0HoYH",
        "3O3c_qTaHoYI"
      ],
      "include_colab_link": true
    }
  },
  "cells": [
    {
      "cell_type": "markdown",
      "metadata": {
        "id": "view-in-github",
        "colab_type": "text"
      },
      "source": [
        "<a href=\"https://colab.research.google.com/github/AliciaJoseph/BridgeUP-STEM-Projects/blob/main/C14_Unit_3_Astrophysics_Activity_Notebook.ipynb\" target=\"_parent\"><img src=\"https://colab.research.google.com/assets/colab-badge.svg\" alt=\"Open In Colab\"/></a>"
      ]
    },
    {
      "cell_type": "code",
      "metadata": {
        "colab": {
          "base_uri": "https://localhost:8080/"
        },
        "id": "-HLeMphaVFpO",
        "outputId": "d0169ba6-1eb1-4b85-e079-1d46ded095a1"
      },
      "source": [
        "from google.colab import drive\n",
        "drive.mount('/content/drive')"
      ],
      "execution_count": null,
      "outputs": [
        {
          "output_type": "stream",
          "text": [
            "Mounted at /content/drive\n"
          ],
          "name": "stdout"
        }
      ]
    },
    {
      "cell_type": "markdown",
      "metadata": {
        "id": "WY69O0jGHoXq"
      },
      "source": [
        "# 🟢Module 1: Analyzing lab data with pandas\n",
        "\n",
        "This module will walk you through the basics of **creating a pandas dataframe**. You'll use the data you collected in the distance vs brightness lab."
      ]
    },
    {
      "cell_type": "markdown",
      "metadata": {
        "id": "CP3JG56kHoXs"
      },
      "source": [
        "First, let's import the pandas and matplotlib libraries:"
      ]
    },
    {
      "cell_type": "code",
      "metadata": {
        "id": "9zxzwRheHoXt"
      },
      "source": [
        "import pandas as pd\n",
        "import matplotlib.pyplot as plt"
      ],
      "execution_count": null,
      "outputs": []
    },
    {
      "cell_type": "markdown",
      "metadata": {
        "id": "5zqHvoYAHoXu"
      },
      "source": [
        "Next, create 4 lists: 1 that contains your distance measurements and 3 that contain your brightness measurements from each experimental run."
      ]
    },
    {
      "cell_type": "code",
      "metadata": {
        "id": "MMZOCO3YHoXv"
      },
      "source": [
        "# Fill in the lists below\n",
        "dist = [0, 10, 20, 30, 40, 50, 60, 70, 80, 90, 100] #independent\n",
        "brt1 = [18914, 1826, 624, 240, 144, 47, 47, 47, 3, 3, 47] #dependent\n",
        "brt2 = [18357, 3043, 821, 387, 193, 97, 47, 47, 47, 47, 47] #dependent\n",
        "brt3 = [770, 770, 770, 381, 230, 157, 113, 85, 66, 53, 43] #dependent"
      ],
      "execution_count": null,
      "outputs": []
    },
    {
      "cell_type": "markdown",
      "metadata": {
        "id": "1xKDXkaMHoXw"
      },
      "source": [
        "Now we'll create a dataframe based on these lists using the pandas .DataFrame() function."
      ]
    },
    {
      "cell_type": "code",
      "metadata": {
        "id": "mwbEcaMDHoXx"
      },
      "source": [
        "df = pd.DataFrame({\"distance\": dist, \"brightness 1\": brt1, \"brightness 2\": brt2, \"brightness 3\": brt3})\n",
        "\n",
        "# See those {curly brackets}? This means we're using a special data type called a dictionary!"
      ],
      "execution_count": null,
      "outputs": []
    },
    {
      "cell_type": "markdown",
      "metadata": {
        "id": "DwVGnbpcHoXy"
      },
      "source": [
        "Look at the first 5 lines of our dataframe using the .head() function"
      ]
    },
    {
      "cell_type": "code",
      "metadata": {
        "colab": {
          "base_uri": "https://localhost:8080/",
          "height": 205
        },
        "id": "aoilklPiHoXz",
        "outputId": "054bbdbb-0dd5-4458-9f2f-6d8831e84b37"
      },
      "source": [
        "df.head()"
      ],
      "execution_count": null,
      "outputs": [
        {
          "output_type": "execute_result",
          "data": {
            "text/html": [
              "<div>\n",
              "<style scoped>\n",
              "    .dataframe tbody tr th:only-of-type {\n",
              "        vertical-align: middle;\n",
              "    }\n",
              "\n",
              "    .dataframe tbody tr th {\n",
              "        vertical-align: top;\n",
              "    }\n",
              "\n",
              "    .dataframe thead th {\n",
              "        text-align: right;\n",
              "    }\n",
              "</style>\n",
              "<table border=\"1\" class=\"dataframe\">\n",
              "  <thead>\n",
              "    <tr style=\"text-align: right;\">\n",
              "      <th></th>\n",
              "      <th>distance</th>\n",
              "      <th>brightness 1</th>\n",
              "      <th>brightness 2</th>\n",
              "      <th>brightness 3</th>\n",
              "    </tr>\n",
              "  </thead>\n",
              "  <tbody>\n",
              "    <tr>\n",
              "      <th>0</th>\n",
              "      <td>0</td>\n",
              "      <td>18914</td>\n",
              "      <td>18357</td>\n",
              "      <td>770</td>\n",
              "    </tr>\n",
              "    <tr>\n",
              "      <th>1</th>\n",
              "      <td>10</td>\n",
              "      <td>1826</td>\n",
              "      <td>3043</td>\n",
              "      <td>770</td>\n",
              "    </tr>\n",
              "    <tr>\n",
              "      <th>2</th>\n",
              "      <td>20</td>\n",
              "      <td>624</td>\n",
              "      <td>821</td>\n",
              "      <td>770</td>\n",
              "    </tr>\n",
              "    <tr>\n",
              "      <th>3</th>\n",
              "      <td>30</td>\n",
              "      <td>240</td>\n",
              "      <td>387</td>\n",
              "      <td>381</td>\n",
              "    </tr>\n",
              "    <tr>\n",
              "      <th>4</th>\n",
              "      <td>40</td>\n",
              "      <td>144</td>\n",
              "      <td>193</td>\n",
              "      <td>230</td>\n",
              "    </tr>\n",
              "  </tbody>\n",
              "</table>\n",
              "</div>"
            ],
            "text/plain": [
              "   distance  brightness 1  brightness 2  brightness 3\n",
              "0         0         18914         18357           770\n",
              "1        10          1826          3043           770\n",
              "2        20           624           821           770\n",
              "3        30           240           387           381\n",
              "4        40           144           193           230"
            ]
          },
          "metadata": {
            "tags": []
          },
          "execution_count": 19
        }
      ]
    },
    {
      "cell_type": "markdown",
      "metadata": {
        "id": "_7Ovb7UwHoXz"
      },
      "source": [
        "Notice that the strings we chose in the .DataFrame() function have become the column headers and the items from the lists are the column values. \n",
        "\n",
        "What order are the columns in?"
      ]
    },
    {
      "cell_type": "markdown",
      "metadata": {
        "id": "naGi1yyIHoX0"
      },
      "source": [
        "## Working with data columns"
      ]
    },
    {
      "cell_type": "markdown",
      "metadata": {
        "id": "1FVRtC7DHoX0"
      },
      "source": [
        "Select just the \"brightness 1\" column and assign it to a variable."
      ]
    },
    {
      "cell_type": "code",
      "metadata": {
        "id": "HIa7rAvFHoX1"
      },
      "source": [
        "brightness1 = df[\"brightness 1\"]"
      ],
      "execution_count": null,
      "outputs": []
    },
    {
      "cell_type": "markdown",
      "metadata": {
        "id": "VWo2rbuXHoX1"
      },
      "source": [
        "Use the .head() function to look at the first 10 values in this column."
      ]
    },
    {
      "cell_type": "code",
      "metadata": {
        "colab": {
          "base_uri": "https://localhost:8080/"
        },
        "id": "onmaK8h_HoX1",
        "outputId": "869647d9-967a-492d-a21a-e6c0ac2fce0e"
      },
      "source": [
        "brightness1.head(10)"
      ],
      "execution_count": null,
      "outputs": [
        {
          "output_type": "execute_result",
          "data": {
            "text/plain": [
              "0    18914\n",
              "1     1826\n",
              "2      624\n",
              "3      240\n",
              "4      144\n",
              "5       47\n",
              "6       47\n",
              "7       47\n",
              "8        3\n",
              "9        3\n",
              "Name: brightness 1, dtype: int64"
            ]
          },
          "metadata": {
            "tags": []
          },
          "execution_count": 21
        }
      ]
    },
    {
      "cell_type": "markdown",
      "metadata": {
        "id": "aZh8irmPHoX2"
      },
      "source": [
        "Print out the min, max, and average value in this column:"
      ]
    },
    {
      "cell_type": "code",
      "metadata": {
        "colab": {
          "base_uri": "https://localhost:8080/"
        },
        "id": "KrBjAWwOHoX2",
        "outputId": "ad2cbd07-075b-44c2-b6fa-7afcc8e6d69d"
      },
      "source": [
        "# You may have used numpy functions for these calculations in the past, but have you tried pandas methods?\n",
        "# Check your cheat sheet for details\n",
        "print(brightness1.min())\n",
        "print(brightness1.max())\n",
        "print(brightness1.mean())"
      ],
      "execution_count": null,
      "outputs": [
        {
          "output_type": "stream",
          "text": [
            "3\n",
            "18914\n",
            "1994.7272727272727\n"
          ],
          "name": "stdout"
        }
      ]
    },
    {
      "cell_type": "markdown",
      "metadata": {
        "id": "jAv6-qctHoX2"
      },
      "source": [
        "Use the .count() method to find out how many values are in the first brightness column:"
      ]
    },
    {
      "cell_type": "code",
      "metadata": {
        "colab": {
          "base_uri": "https://localhost:8080/"
        },
        "id": "6EWTMmuqHoX2",
        "outputId": "ac27c4f9-382d-4128-e7e7-7b554c083129"
      },
      "source": [
        "brightness1.count()"
      ],
      "execution_count": null,
      "outputs": [
        {
          "output_type": "execute_result",
          "data": {
            "text/plain": [
              "11"
            ]
          },
          "metadata": {
            "tags": []
          },
          "execution_count": 23
        }
      ]
    },
    {
      "cell_type": "markdown",
      "metadata": {
        "id": "NhgsoZCKHoX2"
      },
      "source": [
        "Now use the .sum() method to find the sum of all the values in this column:"
      ]
    },
    {
      "cell_type": "code",
      "metadata": {
        "colab": {
          "base_uri": "https://localhost:8080/"
        },
        "id": "hb6hJprkHoX2",
        "outputId": "2fa95d4a-a561-4597-fae6-288ebdbdf4ac"
      },
      "source": [
        "brightness1.sum()"
      ],
      "execution_count": null,
      "outputs": [
        {
          "output_type": "execute_result",
          "data": {
            "text/plain": [
              "21942"
            ]
          },
          "metadata": {
            "tags": []
          },
          "execution_count": 24
        }
      ]
    },
    {
      "cell_type": "markdown",
      "metadata": {
        "id": "uUrp0ildHoX3"
      },
      "source": [
        "## Adding new data to your dataframe"
      ]
    },
    {
      "cell_type": "markdown",
      "metadata": {
        "id": "kgB49oraHoX3"
      },
      "source": [
        "You have three columns for brightness, but we're interested in calculating the average.\n",
        "\n",
        "Let's add a new column to our dataframe that contains the average brightness value:"
      ]
    },
    {
      "cell_type": "code",
      "metadata": {
        "id": "7ZwVmkF1HoX3"
      },
      "source": [
        "#Sample: df[\"new column\"] = df[[\"col1\", \"col2\"].mean(axis=1)\n",
        "\n",
        "# Notes:\n",
        "# \"new column\" is the name of the new column we are creating\n",
        "# We are specifying which columns to average together using an index\n",
        "# We're using the pandas .mean() method again!\n",
        "# axis=1 specifies that pandas should find the mean across columns. \n",
        "# (axis=0 would tell pandas to find the mean across rows)\n",
        "\n",
        "# write code to add an average brightness column below:\n",
        "df[\"avg brightness\"] = df[[\"brightness 1\", \"brightness 2\", \"brightness 3\"]].mean(axis=1)"
      ],
      "execution_count": null,
      "outputs": []
    },
    {
      "cell_type": "markdown",
      "metadata": {
        "id": "hZIhoPFFHoX3"
      },
      "source": [
        "Use the .head() method to check that you've successfully added the new column:"
      ]
    },
    {
      "cell_type": "code",
      "metadata": {
        "colab": {
          "base_uri": "https://localhost:8080/",
          "height": 205
        },
        "id": "gtNZQp53HoX3",
        "outputId": "fe8e3efd-91d8-46c1-ecb0-583bb6eef580"
      },
      "source": [
        "df.head()"
      ],
      "execution_count": null,
      "outputs": [
        {
          "output_type": "execute_result",
          "data": {
            "text/html": [
              "<div>\n",
              "<style scoped>\n",
              "    .dataframe tbody tr th:only-of-type {\n",
              "        vertical-align: middle;\n",
              "    }\n",
              "\n",
              "    .dataframe tbody tr th {\n",
              "        vertical-align: top;\n",
              "    }\n",
              "\n",
              "    .dataframe thead th {\n",
              "        text-align: right;\n",
              "    }\n",
              "</style>\n",
              "<table border=\"1\" class=\"dataframe\">\n",
              "  <thead>\n",
              "    <tr style=\"text-align: right;\">\n",
              "      <th></th>\n",
              "      <th>distance</th>\n",
              "      <th>brightness 1</th>\n",
              "      <th>brightness 2</th>\n",
              "      <th>brightness 3</th>\n",
              "      <th>avg brightness</th>\n",
              "    </tr>\n",
              "  </thead>\n",
              "  <tbody>\n",
              "    <tr>\n",
              "      <th>0</th>\n",
              "      <td>0</td>\n",
              "      <td>18914</td>\n",
              "      <td>18357</td>\n",
              "      <td>770</td>\n",
              "      <td>12680.333333</td>\n",
              "    </tr>\n",
              "    <tr>\n",
              "      <th>1</th>\n",
              "      <td>10</td>\n",
              "      <td>1826</td>\n",
              "      <td>3043</td>\n",
              "      <td>770</td>\n",
              "      <td>1879.666667</td>\n",
              "    </tr>\n",
              "    <tr>\n",
              "      <th>2</th>\n",
              "      <td>20</td>\n",
              "      <td>624</td>\n",
              "      <td>821</td>\n",
              "      <td>770</td>\n",
              "      <td>738.333333</td>\n",
              "    </tr>\n",
              "    <tr>\n",
              "      <th>3</th>\n",
              "      <td>30</td>\n",
              "      <td>240</td>\n",
              "      <td>387</td>\n",
              "      <td>381</td>\n",
              "      <td>336.000000</td>\n",
              "    </tr>\n",
              "    <tr>\n",
              "      <th>4</th>\n",
              "      <td>40</td>\n",
              "      <td>144</td>\n",
              "      <td>193</td>\n",
              "      <td>230</td>\n",
              "      <td>189.000000</td>\n",
              "    </tr>\n",
              "  </tbody>\n",
              "</table>\n",
              "</div>"
            ],
            "text/plain": [
              "   distance  brightness 1  brightness 2  brightness 3  avg brightness\n",
              "0         0         18914         18357           770    12680.333333\n",
              "1        10          1826          3043           770     1879.666667\n",
              "2        20           624           821           770      738.333333\n",
              "3        30           240           387           381      336.000000\n",
              "4        40           144           193           230      189.000000"
            ]
          },
          "metadata": {
            "tags": []
          },
          "execution_count": 26
        }
      ]
    },
    {
      "cell_type": "markdown",
      "metadata": {
        "id": "71v1JvLbHoX3"
      },
      "source": [
        "Assign the \"avg brightness\" column to a new variable:"
      ]
    },
    {
      "cell_type": "code",
      "metadata": {
        "id": "zymMRSpHHoX4"
      },
      "source": [
        "avgB = df[\"avg brightness\"] #syntax: variable_name = name_of_dataframe[\"name of the column\"]"
      ],
      "execution_count": null,
      "outputs": []
    },
    {
      "cell_type": "markdown",
      "metadata": {
        "id": "vkhIeBx4HoX4"
      },
      "source": [
        "What is the data type of the \"avg brightness\" column? (Hint: use the .dtypes method)"
      ]
    },
    {
      "cell_type": "code",
      "metadata": {
        "colab": {
          "base_uri": "https://localhost:8080/"
        },
        "id": "5ArCjseyHoX4",
        "outputId": "bc503369-3a9c-4f1c-9236-d7d4a9123118"
      },
      "source": [
        "# Note that the .dtypes method doesn't use parentheses\n",
        "avgB.dtypes"
      ],
      "execution_count": null,
      "outputs": [
        {
          "output_type": "execute_result",
          "data": {
            "text/plain": [
              "dtype('float64')"
            ]
          },
          "metadata": {
            "tags": []
          },
          "execution_count": 28
        }
      ]
    },
    {
      "cell_type": "markdown",
      "metadata": {
        "id": "dLn6ZbgJHoX4"
      },
      "source": [
        "Let's compare this to the rest of the columns. (Hint: try running the .dtypes attribute on the whole dataframe)"
      ]
    },
    {
      "cell_type": "code",
      "metadata": {
        "colab": {
          "base_uri": "https://localhost:8080/"
        },
        "id": "MJQcZy-oHoX4",
        "outputId": "481615ed-ff7d-4c82-ee77-ee4ec8846282"
      },
      "source": [
        "df.dtypes"
      ],
      "execution_count": null,
      "outputs": [
        {
          "output_type": "execute_result",
          "data": {
            "text/plain": [
              "distance            int64\n",
              "brightness 1        int64\n",
              "brightness 2        int64\n",
              "brightness 3        int64\n",
              "avg brightness    float64\n",
              "dtype: object"
            ]
          },
          "metadata": {
            "tags": []
          },
          "execution_count": 29
        }
      ]
    },
    {
      "cell_type": "markdown",
      "metadata": {
        "id": "e0-hktZxHoX4"
      },
      "source": [
        "## Sorting your data"
      ]
    },
    {
      "cell_type": "markdown",
      "metadata": {
        "id": "TTUIqTSlHoX4"
      },
      "source": [
        "Now let's do some more data analysis using pandas. We can use the .sort_values() function to sort our data by average brightness."
      ]
    },
    {
      "cell_type": "code",
      "metadata": {
        "colab": {
          "base_uri": "https://localhost:8080/",
          "height": 362
        },
        "id": "vtLHlVyUHoX5",
        "outputId": "d3070186-07ca-43d4-c2e8-20f0c687f3ef"
      },
      "source": [
        "df_sorted = df.sort_values([\"avg brightness\"]) # specify the column that you want to use for the sort using an index\n",
        "# Note that we need to assign the sorted dataframe to a new variable\n",
        "\n",
        "df_sorted.head(10) # Look at the first 10 lines of the sorted file"
      ],
      "execution_count": null,
      "outputs": [
        {
          "output_type": "execute_result",
          "data": {
            "text/html": [
              "<div>\n",
              "<style scoped>\n",
              "    .dataframe tbody tr th:only-of-type {\n",
              "        vertical-align: middle;\n",
              "    }\n",
              "\n",
              "    .dataframe tbody tr th {\n",
              "        vertical-align: top;\n",
              "    }\n",
              "\n",
              "    .dataframe thead th {\n",
              "        text-align: right;\n",
              "    }\n",
              "</style>\n",
              "<table border=\"1\" class=\"dataframe\">\n",
              "  <thead>\n",
              "    <tr style=\"text-align: right;\">\n",
              "      <th></th>\n",
              "      <th>distance</th>\n",
              "      <th>brightness 1</th>\n",
              "      <th>brightness 2</th>\n",
              "      <th>brightness 3</th>\n",
              "      <th>avg brightness</th>\n",
              "    </tr>\n",
              "  </thead>\n",
              "  <tbody>\n",
              "    <tr>\n",
              "      <th>9</th>\n",
              "      <td>90</td>\n",
              "      <td>3</td>\n",
              "      <td>47</td>\n",
              "      <td>53</td>\n",
              "      <td>34.333333</td>\n",
              "    </tr>\n",
              "    <tr>\n",
              "      <th>8</th>\n",
              "      <td>80</td>\n",
              "      <td>3</td>\n",
              "      <td>47</td>\n",
              "      <td>66</td>\n",
              "      <td>38.666667</td>\n",
              "    </tr>\n",
              "    <tr>\n",
              "      <th>10</th>\n",
              "      <td>100</td>\n",
              "      <td>47</td>\n",
              "      <td>47</td>\n",
              "      <td>43</td>\n",
              "      <td>45.666667</td>\n",
              "    </tr>\n",
              "    <tr>\n",
              "      <th>7</th>\n",
              "      <td>70</td>\n",
              "      <td>47</td>\n",
              "      <td>47</td>\n",
              "      <td>85</td>\n",
              "      <td>59.666667</td>\n",
              "    </tr>\n",
              "    <tr>\n",
              "      <th>6</th>\n",
              "      <td>60</td>\n",
              "      <td>47</td>\n",
              "      <td>47</td>\n",
              "      <td>113</td>\n",
              "      <td>69.000000</td>\n",
              "    </tr>\n",
              "    <tr>\n",
              "      <th>5</th>\n",
              "      <td>50</td>\n",
              "      <td>47</td>\n",
              "      <td>97</td>\n",
              "      <td>157</td>\n",
              "      <td>100.333333</td>\n",
              "    </tr>\n",
              "    <tr>\n",
              "      <th>4</th>\n",
              "      <td>40</td>\n",
              "      <td>144</td>\n",
              "      <td>193</td>\n",
              "      <td>230</td>\n",
              "      <td>189.000000</td>\n",
              "    </tr>\n",
              "    <tr>\n",
              "      <th>3</th>\n",
              "      <td>30</td>\n",
              "      <td>240</td>\n",
              "      <td>387</td>\n",
              "      <td>381</td>\n",
              "      <td>336.000000</td>\n",
              "    </tr>\n",
              "    <tr>\n",
              "      <th>2</th>\n",
              "      <td>20</td>\n",
              "      <td>624</td>\n",
              "      <td>821</td>\n",
              "      <td>770</td>\n",
              "      <td>738.333333</td>\n",
              "    </tr>\n",
              "    <tr>\n",
              "      <th>1</th>\n",
              "      <td>10</td>\n",
              "      <td>1826</td>\n",
              "      <td>3043</td>\n",
              "      <td>770</td>\n",
              "      <td>1879.666667</td>\n",
              "    </tr>\n",
              "  </tbody>\n",
              "</table>\n",
              "</div>"
            ],
            "text/plain": [
              "    distance  brightness 1  brightness 2  brightness 3  avg brightness\n",
              "9         90             3            47            53       34.333333\n",
              "8         80             3            47            66       38.666667\n",
              "10       100            47            47            43       45.666667\n",
              "7         70            47            47            85       59.666667\n",
              "6         60            47            47           113       69.000000\n",
              "5         50            47            97           157      100.333333\n",
              "4         40           144           193           230      189.000000\n",
              "3         30           240           387           381      336.000000\n",
              "2         20           624           821           770      738.333333\n",
              "1         10          1826          3043           770     1879.666667"
            ]
          },
          "metadata": {
            "tags": []
          },
          "execution_count": 30
        }
      ]
    },
    {
      "cell_type": "markdown",
      "metadata": {
        "id": "5aWnBTHZHoX5"
      },
      "source": [
        "Look at the distances in this sorted dataframe. Do the lowest brightness values occur at large or small distances?\n",
        "\n",
        "What if we want to look at the highest brightness values? We can sort the data in reverse by adding another argument to the sort_values() function."
      ]
    },
    {
      "cell_type": "code",
      "metadata": {
        "colab": {
          "base_uri": "https://localhost:8080/",
          "height": 362
        },
        "id": "A7A40e1rHoX5",
        "outputId": "635eb531-1d26-48be-aa84-4af6897eee62"
      },
      "source": [
        "# set the ascending argument to False to sort values from highest to lowest\n",
        "df_sorted = df.sort_values([\"avg brightness\"], ascending = False)\n",
        "# We will overwrite our original variable, but you could use a different variable here if you wanted\n",
        "# to store multiple sorted dataframes\n",
        "\n",
        "df_sorted.head(10)"
      ],
      "execution_count": null,
      "outputs": [
        {
          "output_type": "execute_result",
          "data": {
            "text/html": [
              "<div>\n",
              "<style scoped>\n",
              "    .dataframe tbody tr th:only-of-type {\n",
              "        vertical-align: middle;\n",
              "    }\n",
              "\n",
              "    .dataframe tbody tr th {\n",
              "        vertical-align: top;\n",
              "    }\n",
              "\n",
              "    .dataframe thead th {\n",
              "        text-align: right;\n",
              "    }\n",
              "</style>\n",
              "<table border=\"1\" class=\"dataframe\">\n",
              "  <thead>\n",
              "    <tr style=\"text-align: right;\">\n",
              "      <th></th>\n",
              "      <th>distance</th>\n",
              "      <th>brightness 1</th>\n",
              "      <th>brightness 2</th>\n",
              "      <th>brightness 3</th>\n",
              "      <th>avg brightness</th>\n",
              "    </tr>\n",
              "  </thead>\n",
              "  <tbody>\n",
              "    <tr>\n",
              "      <th>0</th>\n",
              "      <td>0</td>\n",
              "      <td>18914</td>\n",
              "      <td>18357</td>\n",
              "      <td>770</td>\n",
              "      <td>12680.333333</td>\n",
              "    </tr>\n",
              "    <tr>\n",
              "      <th>1</th>\n",
              "      <td>10</td>\n",
              "      <td>1826</td>\n",
              "      <td>3043</td>\n",
              "      <td>770</td>\n",
              "      <td>1879.666667</td>\n",
              "    </tr>\n",
              "    <tr>\n",
              "      <th>2</th>\n",
              "      <td>20</td>\n",
              "      <td>624</td>\n",
              "      <td>821</td>\n",
              "      <td>770</td>\n",
              "      <td>738.333333</td>\n",
              "    </tr>\n",
              "    <tr>\n",
              "      <th>3</th>\n",
              "      <td>30</td>\n",
              "      <td>240</td>\n",
              "      <td>387</td>\n",
              "      <td>381</td>\n",
              "      <td>336.000000</td>\n",
              "    </tr>\n",
              "    <tr>\n",
              "      <th>4</th>\n",
              "      <td>40</td>\n",
              "      <td>144</td>\n",
              "      <td>193</td>\n",
              "      <td>230</td>\n",
              "      <td>189.000000</td>\n",
              "    </tr>\n",
              "    <tr>\n",
              "      <th>5</th>\n",
              "      <td>50</td>\n",
              "      <td>47</td>\n",
              "      <td>97</td>\n",
              "      <td>157</td>\n",
              "      <td>100.333333</td>\n",
              "    </tr>\n",
              "    <tr>\n",
              "      <th>6</th>\n",
              "      <td>60</td>\n",
              "      <td>47</td>\n",
              "      <td>47</td>\n",
              "      <td>113</td>\n",
              "      <td>69.000000</td>\n",
              "    </tr>\n",
              "    <tr>\n",
              "      <th>7</th>\n",
              "      <td>70</td>\n",
              "      <td>47</td>\n",
              "      <td>47</td>\n",
              "      <td>85</td>\n",
              "      <td>59.666667</td>\n",
              "    </tr>\n",
              "    <tr>\n",
              "      <th>10</th>\n",
              "      <td>100</td>\n",
              "      <td>47</td>\n",
              "      <td>47</td>\n",
              "      <td>43</td>\n",
              "      <td>45.666667</td>\n",
              "    </tr>\n",
              "    <tr>\n",
              "      <th>8</th>\n",
              "      <td>80</td>\n",
              "      <td>3</td>\n",
              "      <td>47</td>\n",
              "      <td>66</td>\n",
              "      <td>38.666667</td>\n",
              "    </tr>\n",
              "  </tbody>\n",
              "</table>\n",
              "</div>"
            ],
            "text/plain": [
              "    distance  brightness 1  brightness 2  brightness 3  avg brightness\n",
              "0          0         18914         18357           770    12680.333333\n",
              "1         10          1826          3043           770     1879.666667\n",
              "2         20           624           821           770      738.333333\n",
              "3         30           240           387           381      336.000000\n",
              "4         40           144           193           230      189.000000\n",
              "5         50            47            97           157      100.333333\n",
              "6         60            47            47           113       69.000000\n",
              "7         70            47            47            85       59.666667\n",
              "10       100            47            47            43       45.666667\n",
              "8         80             3            47            66       38.666667"
            ]
          },
          "metadata": {
            "tags": []
          },
          "execution_count": 31
        }
      ]
    },
    {
      "cell_type": "markdown",
      "metadata": {
        "id": "agDRbv5CHoX5"
      },
      "source": [
        "Are the distances associated with the largest brightness values large or small?"
      ]
    },
    {
      "cell_type": "markdown",
      "metadata": {
        "id": "sWMGt0P2HoX5"
      },
      "source": [
        "Try it yourself! Sort the dataframe by distance (high to low) and look at the first 10 rows:"
      ]
    },
    {
      "cell_type": "code",
      "metadata": {
        "colab": {
          "base_uri": "https://localhost:8080/",
          "height": 362
        },
        "id": "gE9-SGycHoX6",
        "outputId": "f45884e1-05e7-48c1-8922-86b47c4c4475"
      },
      "source": [
        "df_sorted = df.sort_values([\"distance\"], ascending = False)\n",
        "\n",
        "df_sorted.head(10)"
      ],
      "execution_count": null,
      "outputs": [
        {
          "output_type": "execute_result",
          "data": {
            "text/html": [
              "<div>\n",
              "<style scoped>\n",
              "    .dataframe tbody tr th:only-of-type {\n",
              "        vertical-align: middle;\n",
              "    }\n",
              "\n",
              "    .dataframe tbody tr th {\n",
              "        vertical-align: top;\n",
              "    }\n",
              "\n",
              "    .dataframe thead th {\n",
              "        text-align: right;\n",
              "    }\n",
              "</style>\n",
              "<table border=\"1\" class=\"dataframe\">\n",
              "  <thead>\n",
              "    <tr style=\"text-align: right;\">\n",
              "      <th></th>\n",
              "      <th>distance</th>\n",
              "      <th>brightness 1</th>\n",
              "      <th>brightness 2</th>\n",
              "      <th>brightness 3</th>\n",
              "      <th>avg brightness</th>\n",
              "    </tr>\n",
              "  </thead>\n",
              "  <tbody>\n",
              "    <tr>\n",
              "      <th>10</th>\n",
              "      <td>100</td>\n",
              "      <td>47</td>\n",
              "      <td>47</td>\n",
              "      <td>43</td>\n",
              "      <td>45.666667</td>\n",
              "    </tr>\n",
              "    <tr>\n",
              "      <th>9</th>\n",
              "      <td>90</td>\n",
              "      <td>3</td>\n",
              "      <td>47</td>\n",
              "      <td>53</td>\n",
              "      <td>34.333333</td>\n",
              "    </tr>\n",
              "    <tr>\n",
              "      <th>8</th>\n",
              "      <td>80</td>\n",
              "      <td>3</td>\n",
              "      <td>47</td>\n",
              "      <td>66</td>\n",
              "      <td>38.666667</td>\n",
              "    </tr>\n",
              "    <tr>\n",
              "      <th>7</th>\n",
              "      <td>70</td>\n",
              "      <td>47</td>\n",
              "      <td>47</td>\n",
              "      <td>85</td>\n",
              "      <td>59.666667</td>\n",
              "    </tr>\n",
              "    <tr>\n",
              "      <th>6</th>\n",
              "      <td>60</td>\n",
              "      <td>47</td>\n",
              "      <td>47</td>\n",
              "      <td>113</td>\n",
              "      <td>69.000000</td>\n",
              "    </tr>\n",
              "    <tr>\n",
              "      <th>5</th>\n",
              "      <td>50</td>\n",
              "      <td>47</td>\n",
              "      <td>97</td>\n",
              "      <td>157</td>\n",
              "      <td>100.333333</td>\n",
              "    </tr>\n",
              "    <tr>\n",
              "      <th>4</th>\n",
              "      <td>40</td>\n",
              "      <td>144</td>\n",
              "      <td>193</td>\n",
              "      <td>230</td>\n",
              "      <td>189.000000</td>\n",
              "    </tr>\n",
              "    <tr>\n",
              "      <th>3</th>\n",
              "      <td>30</td>\n",
              "      <td>240</td>\n",
              "      <td>387</td>\n",
              "      <td>381</td>\n",
              "      <td>336.000000</td>\n",
              "    </tr>\n",
              "    <tr>\n",
              "      <th>2</th>\n",
              "      <td>20</td>\n",
              "      <td>624</td>\n",
              "      <td>821</td>\n",
              "      <td>770</td>\n",
              "      <td>738.333333</td>\n",
              "    </tr>\n",
              "    <tr>\n",
              "      <th>1</th>\n",
              "      <td>10</td>\n",
              "      <td>1826</td>\n",
              "      <td>3043</td>\n",
              "      <td>770</td>\n",
              "      <td>1879.666667</td>\n",
              "    </tr>\n",
              "  </tbody>\n",
              "</table>\n",
              "</div>"
            ],
            "text/plain": [
              "    distance  brightness 1  brightness 2  brightness 3  avg brightness\n",
              "10       100            47            47            43       45.666667\n",
              "9         90             3            47            53       34.333333\n",
              "8         80             3            47            66       38.666667\n",
              "7         70            47            47            85       59.666667\n",
              "6         60            47            47           113       69.000000\n",
              "5         50            47            97           157      100.333333\n",
              "4         40           144           193           230      189.000000\n",
              "3         30           240           387           381      336.000000\n",
              "2         20           624           821           770      738.333333\n",
              "1         10          1826          3043           770     1879.666667"
            ]
          },
          "metadata": {
            "tags": []
          },
          "execution_count": 32
        }
      ]
    },
    {
      "cell_type": "markdown",
      "metadata": {
        "id": "DWP_DN3cHoX6"
      },
      "source": [
        "## Exporting your processed data"
      ]
    },
    {
      "cell_type": "markdown",
      "metadata": {
        "id": "TiDlvbdPHoX6"
      },
      "source": [
        "You can export your dataframe to your computer as a csv using the .to_csv() function."
      ]
    },
    {
      "cell_type": "code",
      "metadata": {
        "id": "IOQAya2HHoX7"
      },
      "source": [
        "df.to_csv(\"/content/drive/MyDrive/Colab Notebooks/lab_averages.csv\", index=False) # index=False removes the index column (1, 2, 3...) from our dataset"
      ],
      "execution_count": null,
      "outputs": []
    },
    {
      "cell_type": "markdown",
      "metadata": {
        "id": "JPsPfPABHoX7"
      },
      "source": [
        "## Graphing our results"
      ]
    },
    {
      "cell_type": "markdown",
      "metadata": {
        "id": "nZjGt-6KHoX9"
      },
      "source": [
        "Use matplotlib to graph your results. Try plt.scatter() and plt.plot(). What are the strengths and weaknesses of each type of graph?"
      ]
    },
    {
      "cell_type": "code",
      "metadata": {
        "colab": {
          "base_uri": "https://localhost:8080/",
          "height": 541
        },
        "id": "t1Tl6oLnHoX-",
        "outputId": "096d0552-bb1f-4d1b-eace-0d4c6c33faac"
      },
      "source": [
        "# Note: try experimenting with the marker argument for your graphs\n",
        "plt.scatter(df[\"distance\"], avgB)\n",
        "plt.xlabel(\"Distance, mm\")\n",
        "plt.ylabel(\"Brightness\")\n",
        "plt.show()\n",
        "\n",
        "\n",
        "plt.plot(df[\"distance\"], avgB, marker = \"x\")\n",
        "plt.xlabel(\"Distance, mm\")\n",
        "plt.ylabel(\"Brightness\")\n",
        "plt.show()"
      ],
      "execution_count": null,
      "outputs": [
        {
          "output_type": "display_data",
          "data": {
            "image/png": "[encoded data removed]",
            "text/plain": [
              "<Figure size 432x288 with 1 Axes>"
            ]
          },
          "metadata": {
            "tags": [],
            "needs_background": "light"
          }
        },
        {
          "output_type": "display_data",
          "data": {
            "image/png": "[encoded data removed]",
            "text/plain": [
              "<Figure size 432x288 with 1 Axes>"
            ]
          },
          "metadata": {
            "tags": [],
            "needs_background": "light"
          }
        }
      ]
    },
    {
      "cell_type": "markdown",
      "metadata": {
        "id": "U0DcZpd4HoX-"
      },
      "source": [
        "# 🟢Module 2: Clinometer activity Pt 1: Calculating the height of the planetarium\n",
        "\n",
        "Use this notebook to calculate the height of the Hayden Planetarium based on your measurements of distance and clinometer angle. "
      ]
    },
    {
      "cell_type": "markdown",
      "metadata": {
        "id": "eavocqkLHoX-"
      },
      "source": [
        "We will use the numpy library for this activity. It includes lots of functions that make mathematical calculations easier. Import the library below:"
      ]
    },
    {
      "cell_type": "code",
      "metadata": {
        "id": "cGSVt01DHoX_"
      },
      "source": [
        "# Remember that numpy has the alias np\n",
        "import numpy as np"
      ],
      "execution_count": null,
      "outputs": []
    },
    {
      "cell_type": "markdown",
      "metadata": {
        "id": "jpnckG0rHoX_"
      },
      "source": [
        "Next, assign the clinometer angle you measured to a variable:"
      ]
    },
    {
      "cell_type": "code",
      "metadata": {
        "id": "xG0bebqkHoX_"
      },
      "source": [
        "# remember to think carefully about the datatype of your value\n",
        "degrees = 30"
      ],
      "execution_count": null,
      "outputs": []
    },
    {
      "cell_type": "markdown",
      "metadata": {
        "id": "0jNXpQphHoX_"
      },
      "source": [
        "We can use the numpy function np.deg2rad() to convert our angle from degrees to radians, which we will need for our calculations later on. \n",
        "\n",
        "The np.deg2rad() function takes an angle in degrees as an argument and returns that angle in radians.\n",
        "\n",
        "Calculate your angle in radians and assign it to a new variable. Then print out the value:"
      ]
    },
    {
      "cell_type": "code",
      "metadata": {
        "id": "fsHoenlRHoX_",
        "colab": {
          "base_uri": "https://localhost:8080/"
        },
        "outputId": "6bd56045-2185-46d6-aed0-798a81ac73da"
      },
      "source": [
        "# Remember to use the variable you created above.\n",
        "angle_radians = np.deg2rad(degrees) #Converts degree measurement into another unit (radians)\n",
        "print(angle_radians)"
      ],
      "execution_count": null,
      "outputs": [
        {
          "output_type": "stream",
          "text": [
            "0.5235987755982988\n"
          ],
          "name": "stdout"
        }
      ]
    },
    {
      "cell_type": "markdown",
      "metadata": {
        "id": "Ku17nsrLHoX_"
      },
      "source": [
        "#### Now it's time to find the height of the planetarium!\n",
        "\n",
        "First, fill in the distance from the observer to the planetarium base (adjacent side):"
      ]
    },
    {
      "cell_type": "code",
      "metadata": {
        "id": "HGigtb-5HoX_"
      },
      "source": [
        "# Assign the distance in meters to this variable\n",
        "adj = 52.35987756"
      ],
      "execution_count": null,
      "outputs": []
    },
    {
      "cell_type": "markdown",
      "metadata": {
        "id": "ALV7T-R3HoYA"
      },
      "source": [
        "Since we know theta and the length of the adjacent side of our triangle, we can use trigonometry to calculate the opposite side.\n",
        "\n",
        "Remember that tan(theta) = opposite/adjacent\n",
        "\n",
        "Use the numpy function np.tan() to calculate the length of \"opposite\" side of the triangle:"
      ]
    },
    {
      "cell_type": "code",
      "metadata": {
        "id": "uBkVcOFxHoYA",
        "colab": {
          "base_uri": "https://localhost:8080/"
        },
        "outputId": "39fb6344-7cf5-4825-8cfe-45128e6b3b2c"
      },
      "source": [
        "opp = np.tan(angle_radians) * adj\n",
        "print(opp)"
      ],
      "execution_count": null,
      "outputs": [
        {
          "output_type": "stream",
          "text": [
            "30.229989404001845\n"
          ],
          "name": "stdout"
        }
      ]
    },
    {
      "cell_type": "markdown",
      "metadata": {
        "id": "XKBH99TzHoYA"
      },
      "source": [
        "But there's something missing! You need to add your own height to the length of the opposite side to get the height of the planetarium. \n",
        "\n",
        "Add your height in meters to the opposite side and store this value in a new variable:"
      ]
    },
    {
      "cell_type": "code",
      "metadata": {
        "id": "ghQWtRrTHoYA"
      },
      "source": [
        "building_height = 1.549399163 + opp"
      ],
      "execution_count": null,
      "outputs": []
    },
    {
      "cell_type": "markdown",
      "metadata": {
        "id": "f7Zwj4mKHoYA"
      },
      "source": [
        "Now print out a sentence that says \"The Hayden Planetarium is X meters tall!\" using the variable you just created:"
      ]
    },
    {
      "cell_type": "code",
      "metadata": {
        "id": "AWN9QFsHHoYA",
        "colab": {
          "base_uri": "https://localhost:8080/"
        },
        "outputId": "e6d9d164-d9a6-4d50-d667-43e80d3438c0"
      },
      "source": [
        "print(\"The Hayden Planetarium is\", round(building_height, 2), \"meters tall!\")"
      ],
      "execution_count": null,
      "outputs": [
        {
          "output_type": "stream",
          "text": [
            "The Hayden Planetarium is 31.78 meters tall!\n"
          ],
          "name": "stdout"
        }
      ]
    },
    {
      "cell_type": "markdown",
      "metadata": {
        "id": "xGgR8i9qHoYB"
      },
      "source": [
        "### Congratulations! \n",
        "\n",
        "Now what if you wanted to repeat these calculations for the entire class and find the average building height? How would you do that?\n",
        "\n",
        "If you were thinking pandas... you're right! Let's move on to part two of the activity."
      ]
    },
    {
      "cell_type": "markdown",
      "metadata": {
        "id": "dSu-E-AAHoYB"
      },
      "source": [
        "# 🟢Module 3: Clinometer activity Pt 2: Calculating the class average\n",
        "\n",
        "In this notebook you'll create a pandas dataframe with data from the entire class. You will practice using pandas functions and learn how to convert a CSV file to a pandas dataframe."
      ]
    },
    {
      "cell_type": "markdown",
      "metadata": {
        "id": "oHxabilcHoYB"
      },
      "source": [
        "Start by importing pandas and numpy"
      ]
    },
    {
      "cell_type": "code",
      "metadata": {
        "id": "yv2IwKx-HoYB"
      },
      "source": [
        "import pandas as pd\n",
        "import numpy as np"
      ],
      "execution_count": null,
      "outputs": []
    },
    {
      "cell_type": "markdown",
      "metadata": {
        "id": "3qHKAkQnHoYB"
      },
      "source": [
        "Next, let's open our data file and convert it to a pandas dataframe. \n",
        "\n",
        "This time our dataset is in a CSV file so we can use the pd.read_csv() function:"
      ]
    },
    {
      "cell_type": "code",
      "metadata": {
        "id": "FGrQ32N7HoYB"
      },
      "source": [
        "df = pd.read_csv(\"/content/drive/MyDrive/Colab Notebooks/sample_clinometer_data.csv\") # This function opens up a CSV file and converts it to a pandas dataframe"
      ],
      "execution_count": null,
      "outputs": []
    },
    {
      "cell_type": "markdown",
      "metadata": {
        "id": "gm8e3qFRHoYB"
      },
      "source": [
        "Let's take a look at the data! Find the first 5 rows of data:"
      ]
    },
    {
      "cell_type": "code",
      "metadata": {
        "id": "8czaSGevHoYB",
        "colab": {
          "base_uri": "https://localhost:8080/",
          "height": 205
        },
        "outputId": "c9a7b6b7-8035-40dd-c54d-9223ac1056b7"
      },
      "source": [
        "df.head(5)"
      ],
      "execution_count": null,
      "outputs": [
        {
          "output_type": "execute_result",
          "data": {
            "text/html": [
              "<div>\n",
              "<style scoped>\n",
              "    .dataframe tbody tr th:only-of-type {\n",
              "        vertical-align: middle;\n",
              "    }\n",
              "\n",
              "    .dataframe tbody tr th {\n",
              "        vertical-align: top;\n",
              "    }\n",
              "\n",
              "    .dataframe thead th {\n",
              "        text-align: right;\n",
              "    }\n",
              "</style>\n",
              "<table border=\"1\" class=\"dataframe\">\n",
              "  <thead>\n",
              "    <tr style=\"text-align: right;\">\n",
              "      <th></th>\n",
              "      <th>student height</th>\n",
              "      <th>distance to bldg</th>\n",
              "      <th>clinometer angle</th>\n",
              "    </tr>\n",
              "  </thead>\n",
              "  <tbody>\n",
              "    <tr>\n",
              "      <th>0</th>\n",
              "      <td>1.549399</td>\n",
              "      <td>52.120772</td>\n",
              "      <td>35.0</td>\n",
              "    </tr>\n",
              "    <tr>\n",
              "      <th>1</th>\n",
              "      <td>1.625599</td>\n",
              "      <td>52.120772</td>\n",
              "      <td>35.0</td>\n",
              "    </tr>\n",
              "    <tr>\n",
              "      <th>2</th>\n",
              "      <td>1.650991</td>\n",
              "      <td>52.120772</td>\n",
              "      <td>20.0</td>\n",
              "    </tr>\n",
              "    <tr>\n",
              "      <th>3</th>\n",
              "      <td>1.729720</td>\n",
              "      <td>52.578483</td>\n",
              "      <td>20.0</td>\n",
              "    </tr>\n",
              "    <tr>\n",
              "      <th>4</th>\n",
              "      <td>1.549400</td>\n",
              "      <td>52.120772</td>\n",
              "      <td>20.0</td>\n",
              "    </tr>\n",
              "  </tbody>\n",
              "</table>\n",
              "</div>"
            ],
            "text/plain": [
              "   student height  distance to bldg  clinometer angle\n",
              "0        1.549399         52.120772              35.0\n",
              "1        1.625599         52.120772              35.0\n",
              "2        1.650991         52.120772              20.0\n",
              "3        1.729720         52.578483              20.0\n",
              "4        1.549400         52.120772              20.0"
            ]
          },
          "metadata": {
            "tags": []
          },
          "execution_count": 22
        }
      ]
    },
    {
      "cell_type": "markdown",
      "metadata": {
        "id": "TXUo05rIHoYB"
      },
      "source": [
        "Now check the data type of all the columns in the dataframe:"
      ]
    },
    {
      "cell_type": "code",
      "metadata": {
        "id": "krafdICvHoYB",
        "colab": {
          "base_uri": "https://localhost:8080/"
        },
        "outputId": "5e6ddaef-6f99-45fc-ce49-d62af158c18e"
      },
      "source": [
        "df.dtypes"
      ],
      "execution_count": null,
      "outputs": [
        {
          "output_type": "execute_result",
          "data": {
            "text/plain": [
              "student height      float64\n",
              "distance to bldg    float64\n",
              "clinometer angle    float64\n",
              "dtype: object"
            ]
          },
          "metadata": {
            "tags": []
          },
          "execution_count": 23
        }
      ]
    },
    {
      "cell_type": "markdown",
      "metadata": {
        "id": "9CY6w2L4HoYB"
      },
      "source": [
        "The first column contains the height of everyone in the class.\n",
        "\n",
        "Isolate this column using an index and assign it to a variable. Hint: You'll need to include the column name in the index."
      ]
    },
    {
      "cell_type": "code",
      "metadata": {
        "id": "ohfaNvkpHoYC"
      },
      "source": [
        "height = df[\"student height\"]"
      ],
      "execution_count": null,
      "outputs": []
    },
    {
      "cell_type": "markdown",
      "metadata": {
        "id": "doOpo90-HoYC"
      },
      "source": [
        "Now, print out the average class height:"
      ]
    },
    {
      "cell_type": "code",
      "metadata": {
        "id": "B0oYuaJ8HoYC",
        "colab": {
          "base_uri": "https://localhost:8080/"
        },
        "outputId": "c81af962-04ce-4a1f-c50f-b737e419bb92"
      },
      "source": [
        "height.mean()"
      ],
      "execution_count": null,
      "outputs": [
        {
          "output_type": "execute_result",
          "data": {
            "text/plain": [
              "1.59537533525"
            ]
          },
          "metadata": {
            "tags": []
          },
          "execution_count": 25
        }
      ]
    },
    {
      "cell_type": "markdown",
      "metadata": {
        "id": "ovXUxZaCHoYC"
      },
      "source": [
        "## Adding columns: calculating theta\n",
        "To make our data useful, we need to add some more columns. Let's create a column for theta first.\n",
        "\n",
        "Recall that theta = np.deg2rad(degrees)."
      ]
    },
    {
      "cell_type": "code",
      "metadata": {
        "id": "GJYnB4wLHoYC"
      },
      "source": [
        "# Create a new column called \"theta\" \n",
        "# Hint: You will need to use a dataframe index as the argument for the np.deg2rad() function.\n",
        "# Create a new column called \"theta\" \n",
        "# Hint: You will need to use a dataframe index as the argument for the np.deg2rad() function.\n",
        "\n",
        "df[\"theta\"] = np.deg2rad(df[\"clinometer angle\"])"
      ],
      "execution_count": null,
      "outputs": []
    },
    {
      "cell_type": "markdown",
      "metadata": {
        "id": "4alRThA7HoYC"
      },
      "source": [
        "Check to make sure that you've added your new column correctly:"
      ]
    },
    {
      "cell_type": "code",
      "metadata": {
        "id": "OHnu-OqNHoYC",
        "colab": {
          "base_uri": "https://localhost:8080/",
          "height": 205
        },
        "outputId": "bbea6ba7-1c21-4ef4-f4e4-fc6c18ce2f66"
      },
      "source": [
        "df.head()"
      ],
      "execution_count": null,
      "outputs": [
        {
          "output_type": "execute_result",
          "data": {
            "text/html": [
              "<div>\n",
              "<style scoped>\n",
              "    .dataframe tbody tr th:only-of-type {\n",
              "        vertical-align: middle;\n",
              "    }\n",
              "\n",
              "    .dataframe tbody tr th {\n",
              "        vertical-align: top;\n",
              "    }\n",
              "\n",
              "    .dataframe thead th {\n",
              "        text-align: right;\n",
              "    }\n",
              "</style>\n",
              "<table border=\"1\" class=\"dataframe\">\n",
              "  <thead>\n",
              "    <tr style=\"text-align: right;\">\n",
              "      <th></th>\n",
              "      <th>student height</th>\n",
              "      <th>distance to bldg</th>\n",
              "      <th>clinometer angle</th>\n",
              "      <th>theta</th>\n",
              "    </tr>\n",
              "  </thead>\n",
              "  <tbody>\n",
              "    <tr>\n",
              "      <th>0</th>\n",
              "      <td>1.549399</td>\n",
              "      <td>52.120772</td>\n",
              "      <td>35.0</td>\n",
              "      <td>0.610865</td>\n",
              "    </tr>\n",
              "    <tr>\n",
              "      <th>1</th>\n",
              "      <td>1.625599</td>\n",
              "      <td>52.120772</td>\n",
              "      <td>35.0</td>\n",
              "      <td>0.610865</td>\n",
              "    </tr>\n",
              "    <tr>\n",
              "      <th>2</th>\n",
              "      <td>1.650991</td>\n",
              "      <td>52.120772</td>\n",
              "      <td>20.0</td>\n",
              "      <td>0.349066</td>\n",
              "    </tr>\n",
              "    <tr>\n",
              "      <th>3</th>\n",
              "      <td>1.729720</td>\n",
              "      <td>52.578483</td>\n",
              "      <td>20.0</td>\n",
              "      <td>0.349066</td>\n",
              "    </tr>\n",
              "    <tr>\n",
              "      <th>4</th>\n",
              "      <td>1.549400</td>\n",
              "      <td>52.120772</td>\n",
              "      <td>20.0</td>\n",
              "      <td>0.349066</td>\n",
              "    </tr>\n",
              "  </tbody>\n",
              "</table>\n",
              "</div>"
            ],
            "text/plain": [
              "   student height  distance to bldg  clinometer angle     theta\n",
              "0        1.549399         52.120772              35.0  0.610865\n",
              "1        1.625599         52.120772              35.0  0.610865\n",
              "2        1.650991         52.120772              20.0  0.349066\n",
              "3        1.729720         52.578483              20.0  0.349066\n",
              "4        1.549400         52.120772              20.0  0.349066"
            ]
          },
          "metadata": {
            "tags": []
          },
          "execution_count": 27
        }
      ]
    },
    {
      "cell_type": "markdown",
      "metadata": {
        "id": "Z7g3AK7dHoYC"
      },
      "source": [
        "Next, let's add a \"building height\" column. \n",
        "\n",
        "Remember that opposite = adjacent * np.tan(theta) and that the building height is opposite + student height."
      ]
    },
    {
      "cell_type": "code",
      "metadata": {
        "id": "lUJU_tVsHoYC"
      },
      "source": [
        "# Create a new column called \"building height\"\n",
        "# Hint: You will need to use THREE dataframe indexes to define this column\n",
        "df[\"building height\"] = (df[\"distance to bldg\"] * np.tan(df[\"theta\"])) + df[\"student height\"]"
      ],
      "execution_count": null,
      "outputs": []
    },
    {
      "cell_type": "markdown",
      "metadata": {
        "id": "mRnJ-LQyHoYC"
      },
      "source": [
        "Check to make sure that you've added your new column correctly:"
      ]
    },
    {
      "cell_type": "code",
      "metadata": {
        "id": "jm-aMoDyHoYC",
        "colab": {
          "base_uri": "https://localhost:8080/",
          "height": 205
        },
        "outputId": "86438834-917f-4ead-a275-47aabf9cc187"
      },
      "source": [
        "df.head()"
      ],
      "execution_count": null,
      "outputs": [
        {
          "output_type": "execute_result",
          "data": {
            "text/html": [
              "<div>\n",
              "<style scoped>\n",
              "    .dataframe tbody tr th:only-of-type {\n",
              "        vertical-align: middle;\n",
              "    }\n",
              "\n",
              "    .dataframe tbody tr th {\n",
              "        vertical-align: top;\n",
              "    }\n",
              "\n",
              "    .dataframe thead th {\n",
              "        text-align: right;\n",
              "    }\n",
              "</style>\n",
              "<table border=\"1\" class=\"dataframe\">\n",
              "  <thead>\n",
              "    <tr style=\"text-align: right;\">\n",
              "      <th></th>\n",
              "      <th>student height</th>\n",
              "      <th>distance to bldg</th>\n",
              "      <th>clinometer angle</th>\n",
              "      <th>theta</th>\n",
              "      <th>building height</th>\n",
              "    </tr>\n",
              "  </thead>\n",
              "  <tbody>\n",
              "    <tr>\n",
              "      <th>0</th>\n",
              "      <td>1.549399</td>\n",
              "      <td>52.120772</td>\n",
              "      <td>35.0</td>\n",
              "      <td>0.610865</td>\n",
              "      <td>38.044757</td>\n",
              "    </tr>\n",
              "    <tr>\n",
              "      <th>1</th>\n",
              "      <td>1.625599</td>\n",
              "      <td>52.120772</td>\n",
              "      <td>35.0</td>\n",
              "      <td>0.610865</td>\n",
              "      <td>38.120956</td>\n",
              "    </tr>\n",
              "    <tr>\n",
              "      <th>2</th>\n",
              "      <td>1.650991</td>\n",
              "      <td>52.120772</td>\n",
              "      <td>20.0</td>\n",
              "      <td>0.349066</td>\n",
              "      <td>20.621401</td>\n",
              "    </tr>\n",
              "    <tr>\n",
              "      <th>3</th>\n",
              "      <td>1.729720</td>\n",
              "      <td>52.578483</td>\n",
              "      <td>20.0</td>\n",
              "      <td>0.349066</td>\n",
              "      <td>20.866723</td>\n",
              "    </tr>\n",
              "    <tr>\n",
              "      <th>4</th>\n",
              "      <td>1.549400</td>\n",
              "      <td>52.120772</td>\n",
              "      <td>20.0</td>\n",
              "      <td>0.349066</td>\n",
              "      <td>20.519810</td>\n",
              "    </tr>\n",
              "  </tbody>\n",
              "</table>\n",
              "</div>"
            ],
            "text/plain": [
              "   student height  distance to bldg  ...     theta  building height\n",
              "0        1.549399         52.120772  ...  0.610865        38.044757\n",
              "1        1.625599         52.120772  ...  0.610865        38.120956\n",
              "2        1.650991         52.120772  ...  0.349066        20.621401\n",
              "3        1.729720         52.578483  ...  0.349066        20.866723\n",
              "4        1.549400         52.120772  ...  0.349066        20.519810\n",
              "\n",
              "[5 rows x 5 columns]"
            ]
          },
          "metadata": {
            "tags": []
          },
          "execution_count": 29
        }
      ]
    },
    {
      "cell_type": "markdown",
      "metadata": {
        "id": "zRfZtG_tHoYD"
      },
      "source": [
        "Now, find the average planetarium height for the entire class:"
      ]
    },
    {
      "cell_type": "code",
      "metadata": {
        "id": "6YYjRJDhHoYD",
        "colab": {
          "base_uri": "https://localhost:8080/"
        },
        "outputId": "b0391ac4-a816-4a5a-df7a-e7dfaeeec181"
      },
      "source": [
        "df[\"building height\"].mean()"
      ],
      "execution_count": null,
      "outputs": [
        {
          "output_type": "execute_result",
          "data": {
            "text/plain": [
              "29.675378724413974"
            ]
          },
          "metadata": {
            "tags": []
          },
          "execution_count": 30
        }
      ]
    },
    {
      "cell_type": "code",
      "metadata": {
        "id": "_VuRCzsUHoYD"
      },
      "source": [
        ""
      ],
      "execution_count": null,
      "outputs": []
    },
    {
      "cell_type": "code",
      "metadata": {
        "id": "Q0K8oyNQHoYD"
      },
      "source": [
        ""
      ],
      "execution_count": null,
      "outputs": []
    },
    {
      "cell_type": "markdown",
      "metadata": {
        "id": "5mBCtuqoHoYD"
      },
      "source": [
        "# 🟢Module 4: Studying the stars with Gaia and pandas\n",
        "\n",
        "The Tycho-Gaia Astrometric Solution (TGAS) is a collection of 2.5 million stars identified by the Gaia astronomical observatory, a spacecraft launched in 2013. In this notebook, you will practice your pandas skills with a fraction of that dataset."
      ]
    },
    {
      "cell_type": "markdown",
      "metadata": {
        "id": "FetKXbncHoYD"
      },
      "source": [
        "First, import pandas and matplotlib.pyplot:"
      ]
    },
    {
      "cell_type": "code",
      "metadata": {
        "id": "zspShFjqHoYD"
      },
      "source": [
        "import pandas as pd\n",
        "import matplotlib.pyplot as plt"
      ],
      "execution_count": null,
      "outputs": []
    },
    {
      "cell_type": "markdown",
      "metadata": {
        "id": "ZXj9O99dHoYD"
      },
      "source": [
        "Now, open the \"TGAS_data.csv\" file:"
      ]
    },
    {
      "cell_type": "code",
      "metadata": {
        "id": "LwwwQC6RHoYD"
      },
      "source": [
        "df = pd.read_csv('/content/drive/MyDrive/Colab Notebooks/TGAS_data.csv')"
      ],
      "execution_count": null,
      "outputs": []
    },
    {
      "cell_type": "markdown",
      "metadata": {
        "id": "TJPsUbLoHoYD"
      },
      "source": [
        "Look at the first five rows of the dataframe:"
      ]
    },
    {
      "cell_type": "code",
      "metadata": {
        "id": "vqTdfTJ0HoYD",
        "colab": {
          "base_uri": "https://localhost:8080/",
          "height": 205
        },
        "outputId": "c33fd77b-6840-4f4b-eeb4-95ba5f27d802"
      },
      "source": [
        "df.head()"
      ],
      "execution_count": null,
      "outputs": [
        {
          "output_type": "execute_result",
          "data": {
            "text/html": [
              "<div>\n",
              "<style scoped>\n",
              "    .dataframe tbody tr th:only-of-type {\n",
              "        vertical-align: middle;\n",
              "    }\n",
              "\n",
              "    .dataframe tbody tr th {\n",
              "        vertical-align: top;\n",
              "    }\n",
              "\n",
              "    .dataframe thead th {\n",
              "        text-align: right;\n",
              "    }\n",
              "</style>\n",
              "<table border=\"1\" class=\"dataframe\">\n",
              "  <thead>\n",
              "    <tr style=\"text-align: right;\">\n",
              "      <th></th>\n",
              "      <th>TYC2 ID</th>\n",
              "      <th>Epoch</th>\n",
              "      <th>RA (deg)</th>\n",
              "      <th>RA err (mas)</th>\n",
              "      <th>Dec (deg)</th>\n",
              "      <th>Dec err (mas)</th>\n",
              "      <th>Parallax (mas)</th>\n",
              "      <th>Parallax err (mas)</th>\n",
              "    </tr>\n",
              "  </thead>\n",
              "  <tbody>\n",
              "    <tr>\n",
              "      <th>0</th>\n",
              "      <td>1-1001-1</td>\n",
              "      <td>2015</td>\n",
              "      <td>1.414659</td>\n",
              "      <td>0.483</td>\n",
              "      <td>2.448821</td>\n",
              "      <td>0.249</td>\n",
              "      <td>2.96</td>\n",
              "      <td>0.59</td>\n",
              "    </tr>\n",
              "    <tr>\n",
              "      <th>1</th>\n",
              "      <td>1-1009-1</td>\n",
              "      <td>2015</td>\n",
              "      <td>0.137272</td>\n",
              "      <td>0.453</td>\n",
              "      <td>0.721016</td>\n",
              "      <td>0.195</td>\n",
              "      <td>5.77</td>\n",
              "      <td>0.73</td>\n",
              "    </tr>\n",
              "    <tr>\n",
              "      <th>2</th>\n",
              "      <td>1-1016-1</td>\n",
              "      <td>2015</td>\n",
              "      <td>0.426679</td>\n",
              "      <td>0.456</td>\n",
              "      <td>1.786809</td>\n",
              "      <td>0.169</td>\n",
              "      <td>2.66</td>\n",
              "      <td>0.59</td>\n",
              "    </tr>\n",
              "    <tr>\n",
              "      <th>3</th>\n",
              "      <td>1-1021-1</td>\n",
              "      <td>2015</td>\n",
              "      <td>0.484126</td>\n",
              "      <td>0.388</td>\n",
              "      <td>0.434794</td>\n",
              "      <td>0.151</td>\n",
              "      <td>3.16</td>\n",
              "      <td>0.52</td>\n",
              "    </tr>\n",
              "    <tr>\n",
              "      <th>4</th>\n",
              "      <td>1-1024-1</td>\n",
              "      <td>2015</td>\n",
              "      <td>1.080285</td>\n",
              "      <td>0.347</td>\n",
              "      <td>0.875576</td>\n",
              "      <td>0.124</td>\n",
              "      <td>2.63</td>\n",
              "      <td>0.46</td>\n",
              "    </tr>\n",
              "  </tbody>\n",
              "</table>\n",
              "</div>"
            ],
            "text/plain": [
              "        TYC2 ID  Epoch  ...  Parallax (mas)  Parallax err (mas)\n",
              "0  1-1001-1       2015  ...            2.96                0.59\n",
              "1  1-1009-1       2015  ...            5.77                0.73\n",
              "2  1-1016-1       2015  ...            2.66                0.59\n",
              "3  1-1021-1       2015  ...            3.16                0.52\n",
              "4  1-1024-1       2015  ...            2.63                0.46\n",
              "\n",
              "[5 rows x 8 columns]"
            ]
          },
          "metadata": {
            "tags": []
          },
          "execution_count": 5
        }
      ]
    },
    {
      "cell_type": "markdown",
      "metadata": {
        "id": "Qq_wmuD9HoYD"
      },
      "source": [
        "How many rows are there in this dataframe?"
      ]
    },
    {
      "cell_type": "code",
      "metadata": {
        "id": "BAvWQR27HoYD",
        "colab": {
          "base_uri": "https://localhost:8080/"
        },
        "outputId": "85fd8e33-5e73-45b6-f375-0e1850339b55"
      },
      "source": [
        "len(df)"
      ],
      "execution_count": null,
      "outputs": [
        {
          "output_type": "execute_result",
          "data": {
            "text/plain": [
              "993037"
            ]
          },
          "metadata": {
            "tags": []
          },
          "execution_count": 6
        }
      ]
    },
    {
      "cell_type": "markdown",
      "metadata": {
        "id": "GR8zwsiYHoYE"
      },
      "source": [
        "You might notice that one of the columns contains the parallax angle for each star (remember: nearby objects have a larger parallax angle than far away objects).\n",
        "\n",
        "Store the \"parallax\" column in a variable."
      ]
    },
    {
      "cell_type": "code",
      "metadata": {
        "id": "rYL7fuH2HoYE"
      },
      "source": [
        "par = df[\"Parallax (mas)\"]"
      ],
      "execution_count": null,
      "outputs": []
    },
    {
      "cell_type": "markdown",
      "metadata": {
        "id": "L8ov7K9SHoYE"
      },
      "source": [
        "Find the min, max, and mean parallax angle for this dataset:"
      ]
    },
    {
      "cell_type": "code",
      "metadata": {
        "id": "iRfZ3I04HoYE",
        "colab": {
          "base_uri": "https://localhost:8080/"
        },
        "outputId": "ee530887-af8c-49e7-ec21-e8037238b2e8"
      },
      "source": [
        "print(par.min())\n",
        "print(par.max())\n",
        "print(par.mean())"
      ],
      "execution_count": null,
      "outputs": [
        {
          "output_type": "stream",
          "text": [
            "-24.82\n",
            "120.59\n",
            "2.4250942311313683\n"
          ],
          "name": "stdout"
        }
      ]
    },
    {
      "cell_type": "markdown",
      "metadata": {
        "id": "smAkF9DrHoYE"
      },
      "source": [
        "Sort the entire dataframe by parallax angle from largest to smallest and print out the first 10 rows of the sorted dataframe."
      ]
    },
    {
      "cell_type": "code",
      "metadata": {
        "id": "piu6DHXVHoYE",
        "colab": {
          "base_uri": "https://localhost:8080/",
          "height": 362
        },
        "outputId": "734465a9-5c91-4689-8f7d-0354f016cc2f"
      },
      "source": [
        "# Remember to assign your sorted dataframe to a new variable\n",
        "df_sorted = df.sort_values([\"Parallax (mas)\"], ascending = False)\n",
        "df_sorted.head(10)"
      ],
      "execution_count": null,
      "outputs": [
        {
          "output_type": "execute_result",
          "data": {
            "text/html": [
              "<div>\n",
              "<style scoped>\n",
              "    .dataframe tbody tr th:only-of-type {\n",
              "        vertical-align: middle;\n",
              "    }\n",
              "\n",
              "    .dataframe tbody tr th {\n",
              "        vertical-align: top;\n",
              "    }\n",
              "\n",
              "    .dataframe thead th {\n",
              "        text-align: right;\n",
              "    }\n",
              "</style>\n",
              "<table border=\"1\" class=\"dataframe\">\n",
              "  <thead>\n",
              "    <tr style=\"text-align: right;\">\n",
              "      <th></th>\n",
              "      <th>TYC2 ID</th>\n",
              "      <th>Epoch</th>\n",
              "      <th>RA (deg)</th>\n",
              "      <th>RA err (mas)</th>\n",
              "      <th>Dec (deg)</th>\n",
              "      <th>Dec err (mas)</th>\n",
              "      <th>Parallax (mas)</th>\n",
              "      <th>Parallax err (mas)</th>\n",
              "    </tr>\n",
              "  </thead>\n",
              "  <tbody>\n",
              "    <tr>\n",
              "      <th>600536</th>\n",
              "      <td>3980-1081-1</td>\n",
              "      <td>2015</td>\n",
              "      <td>327.909017</td>\n",
              "      <td>0.768</td>\n",
              "      <td>59.294450</td>\n",
              "      <td>0.785</td>\n",
              "      <td>120.59</td>\n",
              "      <td>0.96</td>\n",
              "    </tr>\n",
              "    <tr>\n",
              "      <th>696461</th>\n",
              "      <td>4378-2162-2</td>\n",
              "      <td>2015</td>\n",
              "      <td>133.836686</td>\n",
              "      <td>0.381</td>\n",
              "      <td>70.792196</td>\n",
              "      <td>0.518</td>\n",
              "      <td>87.54</td>\n",
              "      <td>0.59</td>\n",
              "    </tr>\n",
              "    <tr>\n",
              "      <th>626905</th>\n",
              "      <td>4041-1365-1</td>\n",
              "      <td>2015</td>\n",
              "      <td>30.394817</td>\n",
              "      <td>0.228</td>\n",
              "      <td>63.769605</td>\n",
              "      <td>0.236</td>\n",
              "      <td>84.54</td>\n",
              "      <td>0.30</td>\n",
              "    </tr>\n",
              "    <tr>\n",
              "      <th>696460</th>\n",
              "      <td>4378-2162-1</td>\n",
              "      <td>2015</td>\n",
              "      <td>133.836474</td>\n",
              "      <td>0.597</td>\n",
              "      <td>70.793037</td>\n",
              "      <td>0.851</td>\n",
              "      <td>81.89</td>\n",
              "      <td>0.96</td>\n",
              "    </tr>\n",
              "    <tr>\n",
              "      <th>633075</th>\n",
              "      <td>4067-242-1</td>\n",
              "      <td>2015</td>\n",
              "      <td>58.293768</td>\n",
              "      <td>0.845</td>\n",
              "      <td>62.567786</td>\n",
              "      <td>0.341</td>\n",
              "      <td>81.24</td>\n",
              "      <td>0.47</td>\n",
              "    </tr>\n",
              "    <tr>\n",
              "      <th>745577</th>\n",
              "      <td>4618-116-1</td>\n",
              "      <td>2015</td>\n",
              "      <td>109.990312</td>\n",
              "      <td>0.334</td>\n",
              "      <td>84.076924</td>\n",
              "      <td>0.514</td>\n",
              "      <td>80.16</td>\n",
              "      <td>0.66</td>\n",
              "    </tr>\n",
              "    <tr>\n",
              "      <th>906485</th>\n",
              "      <td>6403-440-1</td>\n",
              "      <td>2015</td>\n",
              "      <td>354.532769</td>\n",
              "      <td>0.421</td>\n",
              "      <td>-16.236492</td>\n",
              "      <td>0.307</td>\n",
              "      <td>78.56</td>\n",
              "      <td>0.80</td>\n",
              "    </tr>\n",
              "    <tr>\n",
              "      <th>565736</th>\n",
              "      <td>3819-1043-1</td>\n",
              "      <td>2015</td>\n",
              "      <td>157.604095</td>\n",
              "      <td>0.148</td>\n",
              "      <td>55.998993</td>\n",
              "      <td>0.328</td>\n",
              "      <td>77.41</td>\n",
              "      <td>0.27</td>\n",
              "    </tr>\n",
              "    <tr>\n",
              "      <th>695664</th>\n",
              "      <td>4375-2402-1</td>\n",
              "      <td>2015</td>\n",
              "      <td>128.944995</td>\n",
              "      <td>0.226</td>\n",
              "      <td>68.066859</td>\n",
              "      <td>0.276</td>\n",
              "      <td>76.94</td>\n",
              "      <td>0.38</td>\n",
              "    </tr>\n",
              "    <tr>\n",
              "      <th>786708</th>\n",
              "      <td>4835-774-1</td>\n",
              "      <td>2015</td>\n",
              "      <td>115.012365</td>\n",
              "      <td>0.362</td>\n",
              "      <td>-3.604870</td>\n",
              "      <td>0.221</td>\n",
              "      <td>71.17</td>\n",
              "      <td>0.36</td>\n",
              "    </tr>\n",
              "  </tbody>\n",
              "</table>\n",
              "</div>"
            ],
            "text/plain": [
              "             TYC2 ID  Epoch  ...  Parallax (mas)  Parallax err (mas)\n",
              "600536  3980-1081-1    2015  ...          120.59                0.96\n",
              "696461  4378-2162-2    2015  ...           87.54                0.59\n",
              "626905  4041-1365-1    2015  ...           84.54                0.30\n",
              "696460  4378-2162-1    2015  ...           81.89                0.96\n",
              "633075  4067-242-1     2015  ...           81.24                0.47\n",
              "745577  4618-116-1     2015  ...           80.16                0.66\n",
              "906485  6403-440-1     2015  ...           78.56                0.80\n",
              "565736  3819-1043-1    2015  ...           77.41                0.27\n",
              "695664  4375-2402-1    2015  ...           76.94                0.38\n",
              "786708  4835-774-1     2015  ...           71.17                0.36\n",
              "\n",
              "[10 rows x 8 columns]"
            ]
          },
          "metadata": {
            "tags": []
          },
          "execution_count": 9
        }
      ]
    },
    {
      "cell_type": "markdown",
      "metadata": {
        "id": "cTukfgjQHoYE"
      },
      "source": [
        "## Selecting a particular value in a dataframe\n",
        "You can index a single item from a row of the dataframe by specifying the column and then the row index as follows:"
      ]
    },
    {
      "cell_type": "code",
      "metadata": {
        "id": "Bxc0h6U3HoYE",
        "colab": {
          "base_uri": "https://localhost:8080/"
        },
        "outputId": "12d4479e-64f6-42c5-9055-1fc2bba1df7c"
      },
      "source": [
        "# This code will select the Parallax from the star in row ID 600536\n",
        "df[\"Parallax (mas)\"][600536] "
      ],
      "execution_count": null,
      "outputs": [
        {
          "output_type": "execute_result",
          "data": {
            "text/plain": [
              "120.59"
            ]
          },
          "metadata": {
            "tags": []
          },
          "execution_count": 10
        }
      ]
    },
    {
      "cell_type": "markdown",
      "metadata": {
        "id": "UEZ0d0lQHoYE"
      },
      "source": [
        "Try it yourself! Find the Parallax angle for the star in row index 1."
      ]
    },
    {
      "cell_type": "code",
      "metadata": {
        "id": "azVtfsj7HoYE",
        "colab": {
          "base_uri": "https://localhost:8080/"
        },
        "outputId": "ef24c66d-ccfa-4223-9361-de1425b50860"
      },
      "source": [
        "# Use the following format: df[column name/variable][row index]\n",
        "df[\"Parallax (mas)\"][1]"
      ],
      "execution_count": null,
      "outputs": [
        {
          "output_type": "execute_result",
          "data": {
            "text/plain": [
              "5.77"
            ]
          },
          "metadata": {
            "tags": []
          },
          "execution_count": 11
        }
      ]
    },
    {
      "cell_type": "markdown",
      "metadata": {
        "id": "MUJ5A780HoYF"
      },
      "source": [
        "Now find the TYC2 ID for this star\""
      ]
    },
    {
      "cell_type": "code",
      "metadata": {
        "id": "FNnCTQxOHoYF",
        "colab": {
          "base_uri": "https://localhost:8080/",
          "height": 35
        },
        "outputId": "f1c5008a-07e6-47d9-cd0f-5dbbcd3d834b"
      },
      "source": [
        "df[\"TYC2 ID\"][1]"
      ],
      "execution_count": null,
      "outputs": [
        {
          "output_type": "execute_result",
          "data": {
            "application/vnd.google.colaboratory.intrinsic+json": {
              "type": "string"
            },
            "text/plain": [
              "'1-1009-1    '"
            ]
          },
          "metadata": {
            "tags": []
          },
          "execution_count": 12
        }
      ]
    },
    {
      "cell_type": "markdown",
      "metadata": {
        "id": "NcNgJwQXHoYF"
      },
      "source": [
        "## Let's calculate the distance to these stars based on their parallax angle\n",
        "The parallax angle in this database is measured in milliarcseconds (mas). Add a column called \"Distance (par)\" using the following formula to calculate distance in parsecs: \n",
        "\n",
        "distance (par) = 1 / (parallax/1000)"
      ]
    },
    {
      "cell_type": "code",
      "metadata": {
        "id": "dLkug_1nHoYF"
      },
      "source": [
        "df[\"Distance (par)\"] = 1/(par/1000)"
      ],
      "execution_count": null,
      "outputs": []
    },
    {
      "cell_type": "markdown",
      "metadata": {
        "id": "3FBHhHMsHoYF"
      },
      "source": [
        "Check your dataframe using the .head() method:"
      ]
    },
    {
      "cell_type": "code",
      "metadata": {
        "id": "lQBEgLfrHoYF",
        "colab": {
          "base_uri": "https://localhost:8080/",
          "height": 362
        },
        "outputId": "7f567106-aeb8-4d46-fbc9-fddeaedd02f8"
      },
      "source": [
        "df.head(10)"
      ],
      "execution_count": null,
      "outputs": [
        {
          "output_type": "execute_result",
          "data": {
            "text/html": [
              "<div>\n",
              "<style scoped>\n",
              "    .dataframe tbody tr th:only-of-type {\n",
              "        vertical-align: middle;\n",
              "    }\n",
              "\n",
              "    .dataframe tbody tr th {\n",
              "        vertical-align: top;\n",
              "    }\n",
              "\n",
              "    .dataframe thead th {\n",
              "        text-align: right;\n",
              "    }\n",
              "</style>\n",
              "<table border=\"1\" class=\"dataframe\">\n",
              "  <thead>\n",
              "    <tr style=\"text-align: right;\">\n",
              "      <th></th>\n",
              "      <th>TYC2 ID</th>\n",
              "      <th>Epoch</th>\n",
              "      <th>RA (deg)</th>\n",
              "      <th>RA err (mas)</th>\n",
              "      <th>Dec (deg)</th>\n",
              "      <th>Dec err (mas)</th>\n",
              "      <th>Parallax (mas)</th>\n",
              "      <th>Parallax err (mas)</th>\n",
              "      <th>Distance (par)</th>\n",
              "    </tr>\n",
              "  </thead>\n",
              "  <tbody>\n",
              "    <tr>\n",
              "      <th>0</th>\n",
              "      <td>1-1001-1</td>\n",
              "      <td>2015</td>\n",
              "      <td>1.414659</td>\n",
              "      <td>0.483</td>\n",
              "      <td>2.448821</td>\n",
              "      <td>0.249</td>\n",
              "      <td>2.96</td>\n",
              "      <td>0.59</td>\n",
              "      <td>337.837838</td>\n",
              "    </tr>\n",
              "    <tr>\n",
              "      <th>1</th>\n",
              "      <td>1-1009-1</td>\n",
              "      <td>2015</td>\n",
              "      <td>0.137272</td>\n",
              "      <td>0.453</td>\n",
              "      <td>0.721016</td>\n",
              "      <td>0.195</td>\n",
              "      <td>5.77</td>\n",
              "      <td>0.73</td>\n",
              "      <td>173.310225</td>\n",
              "    </tr>\n",
              "    <tr>\n",
              "      <th>2</th>\n",
              "      <td>1-1016-1</td>\n",
              "      <td>2015</td>\n",
              "      <td>0.426679</td>\n",
              "      <td>0.456</td>\n",
              "      <td>1.786809</td>\n",
              "      <td>0.169</td>\n",
              "      <td>2.66</td>\n",
              "      <td>0.59</td>\n",
              "      <td>375.939850</td>\n",
              "    </tr>\n",
              "    <tr>\n",
              "      <th>3</th>\n",
              "      <td>1-1021-1</td>\n",
              "      <td>2015</td>\n",
              "      <td>0.484126</td>\n",
              "      <td>0.388</td>\n",
              "      <td>0.434794</td>\n",
              "      <td>0.151</td>\n",
              "      <td>3.16</td>\n",
              "      <td>0.52</td>\n",
              "      <td>316.455696</td>\n",
              "    </tr>\n",
              "    <tr>\n",
              "      <th>4</th>\n",
              "      <td>1-1024-1</td>\n",
              "      <td>2015</td>\n",
              "      <td>1.080285</td>\n",
              "      <td>0.347</td>\n",
              "      <td>0.875576</td>\n",
              "      <td>0.124</td>\n",
              "      <td>2.63</td>\n",
              "      <td>0.46</td>\n",
              "      <td>380.228137</td>\n",
              "    </tr>\n",
              "    <tr>\n",
              "      <th>5</th>\n",
              "      <td>1-1040-1</td>\n",
              "      <td>2015</td>\n",
              "      <td>0.398501</td>\n",
              "      <td>0.399</td>\n",
              "      <td>0.444751</td>\n",
              "      <td>0.154</td>\n",
              "      <td>4.10</td>\n",
              "      <td>0.52</td>\n",
              "      <td>243.902439</td>\n",
              "    </tr>\n",
              "    <tr>\n",
              "      <th>6</th>\n",
              "      <td>1-1044-1</td>\n",
              "      <td>2015</td>\n",
              "      <td>0.453174</td>\n",
              "      <td>0.421</td>\n",
              "      <td>0.604862</td>\n",
              "      <td>0.163</td>\n",
              "      <td>2.73</td>\n",
              "      <td>0.57</td>\n",
              "      <td>366.300366</td>\n",
              "    </tr>\n",
              "    <tr>\n",
              "      <th>7</th>\n",
              "      <td>1-1058-1</td>\n",
              "      <td>2015</td>\n",
              "      <td>0.167046</td>\n",
              "      <td>0.438</td>\n",
              "      <td>0.314987</td>\n",
              "      <td>0.174</td>\n",
              "      <td>7.60</td>\n",
              "      <td>0.50</td>\n",
              "      <td>131.578947</td>\n",
              "    </tr>\n",
              "    <tr>\n",
              "      <th>8</th>\n",
              "      <td>1-1063-1</td>\n",
              "      <td>2015</td>\n",
              "      <td>1.438581</td>\n",
              "      <td>0.770</td>\n",
              "      <td>0.582564</td>\n",
              "      <td>0.359</td>\n",
              "      <td>-0.10</td>\n",
              "      <td>0.87</td>\n",
              "      <td>-10000.000000</td>\n",
              "    </tr>\n",
              "    <tr>\n",
              "      <th>9</th>\n",
              "      <td>1-1072-1</td>\n",
              "      <td>2015</td>\n",
              "      <td>1.251000</td>\n",
              "      <td>0.682</td>\n",
              "      <td>2.056585</td>\n",
              "      <td>0.311</td>\n",
              "      <td>1.14</td>\n",
              "      <td>0.70</td>\n",
              "      <td>877.192982</td>\n",
              "    </tr>\n",
              "  </tbody>\n",
              "</table>\n",
              "</div>"
            ],
            "text/plain": [
              "        TYC2 ID  Epoch  ...  Parallax err (mas)  Distance (par)\n",
              "0  1-1001-1       2015  ...                0.59      337.837838\n",
              "1  1-1009-1       2015  ...                0.73      173.310225\n",
              "2  1-1016-1       2015  ...                0.59      375.939850\n",
              "3  1-1021-1       2015  ...                0.52      316.455696\n",
              "4  1-1024-1       2015  ...                0.46      380.228137\n",
              "5  1-1040-1       2015  ...                0.52      243.902439\n",
              "6  1-1044-1       2015  ...                0.57      366.300366\n",
              "7  1-1058-1       2015  ...                0.50      131.578947\n",
              "8  1-1063-1       2015  ...                0.87   -10000.000000\n",
              "9  1-1072-1       2015  ...                0.70      877.192982\n",
              "\n",
              "[10 rows x 9 columns]"
            ]
          },
          "metadata": {
            "tags": []
          },
          "execution_count": 14
        }
      ]
    },
    {
      "cell_type": "markdown",
      "metadata": {
        "id": "uSNjo_5xHoYF"
      },
      "source": [
        "Find the min, max, and average distance:"
      ]
    },
    {
      "cell_type": "code",
      "metadata": {
        "id": "mCYhqELNHoYF",
        "colab": {
          "base_uri": "https://localhost:8080/"
        },
        "outputId": "396380e2-a0ea-4c51-dd7f-450b057650c3"
      },
      "source": [
        "dist = df[\"Distance (par)\"]\n",
        "print(dist.min())\n",
        "print(dist.max())\n",
        "print(dist.mean())"
      ],
      "execution_count": null,
      "outputs": [
        {
          "output_type": "stream",
          "text": [
            "-99999.99999999999\n",
            "99999.99999999999\n",
            "747.2266340679466\n"
          ],
          "name": "stdout"
        }
      ]
    },
    {
      "cell_type": "markdown",
      "metadata": {
        "id": "5WL6JaQMHoYF"
      },
      "source": [
        "Why are there negative distances? Can you find anything in the data that could explain this?"
      ]
    },
    {
      "cell_type": "markdown",
      "metadata": {
        "id": "xtb8CVGIHoYG"
      },
      "source": [
        "## Looking at the distribution of distances\n",
        "The mean is helpful when it comes to learning about the average distance in parsecs to the stars we can measure with Gaia, but it doesn't give us the whole picture. Let's create a graph called a \"histogram\" that shows us how many stars have distances in each range.\n",
        "\n",
        "There's a simple matplotlib.pyplot function for this called plt.hist()\n",
        "\n",
        "The plt.hist() function takes three arguments: \n",
        "- The dataframe index (or variable) that you want to look at\n",
        "- *optional* The number of ranges\n",
        "- *optional* (x min, x max)"
      ]
    },
    {
      "cell_type": "code",
      "metadata": {
        "id": "YBoa8PMuHoYG",
        "colab": {
          "base_uri": "https://localhost:8080/",
          "height": 290
        },
        "outputId": "f7cb9cc5-93bf-4403-db7a-fc8172c3ecae"
      },
      "source": [
        "# First let's try the simplest version. Just use the dataframe index or variable for the distance column:\n",
        "# Don't use the other two arguments for now:\n",
        "\n",
        "plt.hist(dist)\n",
        "plt.xlabel(\"Distances (par)\")\n",
        "plt.ylabel(\"# of stars in range\")\n",
        "plt.show()"
      ],
      "execution_count": null,
      "outputs": [
        {
          "output_type": "display_data",
          "data": {
            "image/png": "[encoded data removed]",
            "text/plain": [
              "<Figure size 432x288 with 1 Axes>"
            ]
          },
          "metadata": {
            "tags": [],
            "needs_background": "light"
          }
        }
      ]
    },
    {
      "cell_type": "code",
      "metadata": {
        "id": "hUcW2BxrHoYG",
        "colab": {
          "base_uri": "https://localhost:8080/",
          "height": 276
        },
        "outputId": "05a3d7c4-37cd-4e39-bb8c-ceddd87af143"
      },
      "source": [
        "# We can split the data up into more ranges if we specify a number. Try adding 20 as the second argument:\n",
        "plt.hist(dist, 20)\n",
        "plt.show()"
      ],
      "execution_count": null,
      "outputs": [
        {
          "output_type": "display_data",
          "data": {
            "image/png": "[encoded data removed]",
            "text/plain": [
              "<Figure size 432x288 with 1 Axes>"
            ]
          },
          "metadata": {
            "tags": [],
            "needs_background": "light"
          }
        }
      ]
    },
    {
      "cell_type": "code",
      "metadata": {
        "id": "xpVAl2IdHoYG",
        "colab": {
          "base_uri": "https://localhost:8080/",
          "height": 265
        },
        "outputId": "79f2071f-39bf-4147-8138-2694487533ff"
      },
      "source": [
        "# There are so few stars in the very negative and very positive distances that it's skewing our results.\n",
        "# Let's try specifying a min and max range of (-100, 4000)\n",
        "plt.hist(dist, 20, (-100, 4000))\n",
        "plt.show()"
      ],
      "execution_count": null,
      "outputs": [
        {
          "output_type": "display_data",
          "data": {
            "image/png": "[encoded data removed]",
            "text/plain": [
              "<Figure size 432x288 with 1 Axes>"
            ]
          },
          "metadata": {
            "tags": [],
            "needs_background": "light"
          }
        }
      ]
    },
    {
      "cell_type": "markdown",
      "metadata": {
        "id": "OgZdGv0IHoYG"
      },
      "source": [
        "# 🟢Module 5: Making an HR Diagram\n",
        "\n",
        "In this Notebook, we'll use pandas and matplotlib to create a Hertzsprung–Russell (HR) diagram with the information we collected about stars.\n",
        "\n"
      ]
    },
    {
      "cell_type": "markdown",
      "metadata": {
        "id": "wkar3v7QHoYG"
      },
      "source": [
        "First, import pandas and matplotlib.pyplot"
      ]
    },
    {
      "cell_type": "code",
      "metadata": {
        "id": "on1Jv5kcHoYG"
      },
      "source": [
        "import pandas as pd #Read in a csv file and create/manipulate a dataframe.\n",
        "import matplotlib.pyplot as plt #Create the HR diagram visualization using matplotlib's .scatter() method."
      ],
      "execution_count": null,
      "outputs": []
    },
    {
      "cell_type": "markdown",
      "metadata": {
        "id": "7Y24Ypd5HoYG"
      },
      "source": [
        "Next, run the following cell to import another matplotlib library and modify the way Jupyter displays graphs:"
      ]
    },
    {
      "cell_type": "code",
      "metadata": {
        "id": "DFYQIv6oHoYG"
      },
      "source": [
        "import matplotlib.colors as mpl # We'll use the matplotlib.colors library to color our data points\n",
        "%matplotlib inline \n",
        "# This command changes the matplotlib viewer that Jupyter notebook uses and allows us to make fancier graphs"
      ],
      "execution_count": null,
      "outputs": []
    },
    {
      "cell_type": "markdown",
      "metadata": {
        "id": "QimW3l0IHoYG"
      },
      "source": [
        "Now, open the \"sample_class_star_data.csv\" file:"
      ]
    },
    {
      "cell_type": "code",
      "metadata": {
        "id": "E0HgvHwZHoYH"
      },
      "source": [
        "df = pd.read_csv(\"/content/drive/MyDrive/Colab Notebooks/sample_class_star_data.csv\")"
      ],
      "execution_count": null,
      "outputs": []
    },
    {
      "cell_type": "markdown",
      "metadata": {
        "id": "4dBpWs0yHoYH"
      },
      "source": [
        "Look at the first five rows of the dataframe:"
      ]
    },
    {
      "cell_type": "code",
      "metadata": {
        "id": "dz9rT5oZHoYH",
        "colab": {
          "base_uri": "https://localhost:8080/",
          "height": 205
        },
        "outputId": "d1d5b2f7-3b96-4e61-8e79-15147e8df7e8"
      },
      "source": [
        "df.head()"
      ],
      "execution_count": null,
      "outputs": [
        {
          "output_type": "execute_result",
          "data": {
            "text/html": [
              "<div>\n",
              "<style scoped>\n",
              "    .dataframe tbody tr th:only-of-type {\n",
              "        vertical-align: middle;\n",
              "    }\n",
              "\n",
              "    .dataframe tbody tr th {\n",
              "        vertical-align: top;\n",
              "    }\n",
              "\n",
              "    .dataframe thead th {\n",
              "        text-align: right;\n",
              "    }\n",
              "</style>\n",
              "<table border=\"1\" class=\"dataframe\">\n",
              "  <thead>\n",
              "    <tr style=\"text-align: right;\">\n",
              "      <th></th>\n",
              "      <th>star ID</th>\n",
              "      <th>Brightness (suns)</th>\n",
              "      <th>Temperature (K)</th>\n",
              "    </tr>\n",
              "  </thead>\n",
              "  <tbody>\n",
              "    <tr>\n",
              "      <th>0</th>\n",
              "      <td>1</td>\n",
              "      <td>132.0</td>\n",
              "      <td>22000.0</td>\n",
              "    </tr>\n",
              "    <tr>\n",
              "      <th>1</th>\n",
              "      <td>2</td>\n",
              "      <td>9000.0</td>\n",
              "      <td>3000.0</td>\n",
              "    </tr>\n",
              "    <tr>\n",
              "      <th>2</th>\n",
              "      <td>3</td>\n",
              "      <td>0.5</td>\n",
              "      <td>5200.0</td>\n",
              "    </tr>\n",
              "    <tr>\n",
              "      <th>3</th>\n",
              "      <td>4</td>\n",
              "      <td>70.0</td>\n",
              "      <td>15000.0</td>\n",
              "    </tr>\n",
              "    <tr>\n",
              "      <th>4</th>\n",
              "      <td>5</td>\n",
              "      <td>60000.0</td>\n",
              "      <td>6000.0</td>\n",
              "    </tr>\n",
              "  </tbody>\n",
              "</table>\n",
              "</div>"
            ],
            "text/plain": [
              "   star ID  Brightness (suns)  Temperature (K)\n",
              "0        1              132.0          22000.0\n",
              "1        2             9000.0           3000.0\n",
              "2        3                0.5           5200.0\n",
              "3        4               70.0          15000.0\n",
              "4        5            60000.0           6000.0"
            ]
          },
          "metadata": {
            "tags": []
          },
          "execution_count": 22
        }
      ]
    },
    {
      "cell_type": "markdown",
      "metadata": {
        "id": "16SCgnw7HoYH"
      },
      "source": [
        "How many stars are in our dataset?"
      ]
    },
    {
      "cell_type": "code",
      "metadata": {
        "id": "N6Ub-CjxHoYH",
        "colab": {
          "base_uri": "https://localhost:8080/"
        },
        "outputId": "5f17d392-e3f6-44be-8eaa-7cc7063255ac"
      },
      "source": [
        "len(df)"
      ],
      "execution_count": null,
      "outputs": [
        {
          "output_type": "execute_result",
          "data": {
            "text/plain": [
              "96"
            ]
          },
          "metadata": {
            "tags": []
          },
          "execution_count": 24
        }
      ]
    },
    {
      "cell_type": "markdown",
      "metadata": {
        "id": "DSWHOvRsHoYH"
      },
      "source": [
        "### Let's explore the data a bit.\n",
        "\n",
        "\n",
        "Store the \"Brightness (suns)\" column and the \"Temperature (K)\" columns in variables."
      ]
    },
    {
      "cell_type": "code",
      "metadata": {
        "id": "1RYkli4pHoYH"
      },
      "source": [
        "B = df[\"Brightness (suns)\"]\n",
        "T = df[\"Temperature (K)\"]"
      ],
      "execution_count": null,
      "outputs": []
    },
    {
      "cell_type": "markdown",
      "metadata": {
        "id": "nlw4v4SWHoYH"
      },
      "source": [
        "Print out the mean brightness and temperature."
      ]
    },
    {
      "cell_type": "code",
      "metadata": {
        "id": "kHTCtzwbHoYH",
        "colab": {
          "base_uri": "https://localhost:8080/"
        },
        "outputId": "60f12979-9f91-41e1-e770-aff4dde09fec"
      },
      "source": [
        "print(B.mean()) #finds the mean of the data stored in the B variable\n",
        "\n",
        "print(T.mean()) #finds the mean of the data stored in the T variable"
      ],
      "execution_count": null,
      "outputs": [
        {
          "output_type": "stream",
          "text": [
            "965.2636905208336\n",
            "7238.541667395834\n"
          ],
          "name": "stdout"
        }
      ]
    },
    {
      "cell_type": "markdown",
      "metadata": {
        "id": "FfNvy3cRHoYH"
      },
      "source": [
        "How do these values compare to the brightness and temperature of the sun?\n",
        "\n",
        "Print out the brightness and temperature of the sun. \n",
        "\n",
        "Hint: Use an index! The sun's star ID is 25, making its dataframe index 24. "
      ]
    },
    {
      "cell_type": "code",
      "metadata": {
        "id": "UGj8a8BVHoYH"
      },
      "source": [
        "# df.head(30) #Displays first 30 rows"
      ],
      "execution_count": null,
      "outputs": []
    },
    {
      "cell_type": "code",
      "metadata": {
        "colab": {
          "base_uri": "https://localhost:8080/"
        },
        "id": "WrSlxpDKh3rB",
        "outputId": "325f7fdb-939e-4344-8133-994cab2b6500"
      },
      "source": [
        "print(B[24])\n",
        "print(T[24])"
      ],
      "execution_count": null,
      "outputs": [
        {
          "output_type": "stream",
          "text": [
            "1.0\n",
            "4800.0\n"
          ],
          "name": "stdout"
        }
      ]
    },
    {
      "cell_type": "markdown",
      "metadata": {
        "id": "qvI8-OM0HoYH"
      },
      "source": [
        "### Now let's make an HR diagram!\n",
        "\n",
        "Run the code below and look at it together. As a group, write comments that explain what each line does. If you have any questions, jot them down and we'll discuss them as a class."
      ]
    },
    {
      "cell_type": "code",
      "metadata": {
        "id": "fX1I4SHRHoYI",
        "colab": {
          "base_uri": "https://localhost:8080/",
          "height": 295
        },
        "outputId": "b0cc8e7f-7dff-492c-a521-54e7d0e743b9"
      },
      "source": [
        "cm = plt.cm.get_cmap(\"RdYlBu\")\n",
        "plt.scatter(T, B, c=B, s=35, cmap=cm, norm=mpl.LogNorm())\n",
        "plt.scatter(T[24], B[24], c='magenta', s=200, marker='*') \n",
        "plt.yscale('log')\n",
        "plt.ylim([0.000001, 1000000])\n",
        "plt.xlabel('Temperature (K)')\n",
        "plt.ylabel('Brightness (Suns)')\n",
        "plt.title('HR Diagram')\n",
        "plt.gca().invert_xaxis()\n",
        "plt.show()"
      ],
      "execution_count": null,
      "outputs": [
        {
          "output_type": "display_data",
          "data": {
            "image/png": "[encoded data removed]",
            "text/plain": [
              "<Figure size 432x288 with 1 Axes>"
            ]
          },
          "metadata": {
            "tags": [],
            "needs_background": "light"
          }
        }
      ]
    },
    {
      "cell_type": "markdown",
      "metadata": {
        "id": "3O3c_qTaHoYI"
      },
      "source": [
        "## 🟢Module 6: The Cultural-Societal Impact of the Lack of Access to Home Broadband\n",
        "\n",
        "Electromagnetic waves that have wavelengths that are larger than 1mm in length are typically called radio waves. These wavelengths are used for communication between mobile phones, radio stations, Bluetooth devices, and of course radio stations.\n",
        "\n",
        "Radio astronomers developed an understanding of radio waves, which provided huge advantage for the development of the high-speed WI-FI standard. In the early 1990’s, WI-FI speed was limited by errors created from the signal bouncing and echoing off walls and objects of a room. This problem was made worse when a lot of information was sent across a single pure tone (single frequency) sine-like radio waves, limiting the possible data WI-FI data rate. However, it was found that by spreading the load of information across the radio band, the echo was reduced. It was not until the mid 2000s that this standard had become main-stream in WI-FI technology.\n",
        "\n",
        "\n",
        "In modern times, Wi-Fi is crucial to everyday activities whether it be work, school, or retail. But, who has access to Wi-Fi and who doesn't? Create a dataframe using the following access-based-on-income vs. time data, and create a scatter plot that visualizes how they compare.\n",
        "\n",
        "Source: https://www.pewresearch.org/internet/fact-sheet/internet-broadband/?menuItem=2ab2b0be-6364-4d3a-8db7-ae134dbc05cd\n",
        "\n"
      ]
    },
    {
      "cell_type": "code",
      "metadata": {
        "id": "3Sgy9XC5HoYI"
      },
      "source": [
        "#Import necessary libraries\n"
      ],
      "execution_count": null,
      "outputs": []
    },
    {
      "cell_type": "code",
      "metadata": {
        "id": "rpbmqgAiHoYI"
      },
      "source": [
        "#Read in data.\n"
      ],
      "execution_count": null,
      "outputs": []
    },
    {
      "cell_type": "code",
      "metadata": {
        "id": "cSI1ENZyHoYI"
      },
      "source": [
        "#Store column data in variables.\n"
      ],
      "execution_count": null,
      "outputs": []
    },
    {
      "cell_type": "code",
      "metadata": {
        "id": "b-D4myJ2HoYI"
      },
      "source": [
        "#Plot information\n"
      ],
      "execution_count": null,
      "outputs": []
    },
    {
      "cell_type": "markdown",
      "metadata": {
        "id": "Eh0AEvWPHoYI"
      },
      "source": [
        "Answer the following questions:\n",
        "\n",
        "1. What income group of households has the greatest access to internet? The smallest?\n",
        "\n",
        "2. True or False: Equality exists because everyone has the opportunity to pay for internet access in their household. <br> Explain your thoughts.\n",
        "\n",
        "3. What are some ways that we can use our computer science skills to boost access of lower-income households to a stable high-speed internet connection?"
      ]
    },
    {
      "cell_type": "code",
      "metadata": {
        "id": "2xzgNR3VHoYI"
      },
      "source": [
        ""
      ],
      "execution_count": null,
      "outputs": []
    }
  ]
}